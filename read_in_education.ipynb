{
 "cells": [
  {
   "cell_type": "code",
   "execution_count": 32,
   "id": "6d89357a",
   "metadata": {},
   "outputs": [],
   "source": [
    "import numpy as numpy\n",
    "import pandas as pd"
   ]
  },
  {
   "cell_type": "code",
   "execution_count": null,
   "id": "5263c40e",
   "metadata": {},
   "outputs": [],
   "source": [
    "datasource = \"owd-tertiary-education\"  # Example datasource, can be changed\n",
    "# datasource = \"owd-government-expenditure-on-education-gdp\"\n",
    "\n",
    "match datasource:\n",
    "    case \"owd-tertiary-education\":\n",
    "        dataName = \"share-of-the-population-with-completed-tertiary-education\"\n",
    "        saveName = \"owd_education_tertiary_completion_rate\"\n",
    "        columnName = \"Combined - percentage of 25-64 years adults with incomplete tertiary education\"\n",
    "        newColumnName = \"TERTIARYCOMPLETIONRATE\"\n",
    "    case \"owd-government-expenditure-on-education-gdp\":\n",
    "        dataName = \"total-government-expenditure-on-education-gdp\"\n",
    "        saveName = \"owd_education_government_expenditure_gdp\"\n",
    "        columnName = \"Public spending on education as a share of GDP (historical and recent)\"\n",
    "        newColumnName = \"EDUCATIONGDPSHARE\"\n",
    "\n",
    "        \n",
    "        \n",
    "# Read in the share-of-the-population-with-completed-tertiary-education dataset\n",
    "df_raw = pd.read_csv(f'data/in/{dataName}.csv')\n",
    "\n"
   ]
  },
  {
   "cell_type": "code",
   "execution_count": 34,
   "id": "6e7335b5",
   "metadata": {},
   "outputs": [
    {
     "data": {
      "application/vnd.microsoft.datawrangler.viewer.v0+json": {
       "columns": [
        {
         "name": "index",
         "rawType": "int64",
         "type": "integer"
        },
        {
         "name": "Entity",
         "rawType": "object",
         "type": "string"
        },
        {
         "name": "Code",
         "rawType": "object",
         "type": "string"
        },
        {
         "name": "Year",
         "rawType": "int64",
         "type": "integer"
        },
        {
         "name": "Public spending on education as a share of GDP (historical and recent)",
         "rawType": "float64",
         "type": "float"
        }
       ],
       "ref": "b37fe271-4af4-403e-afcc-c8d9ab6b1aef",
       "rows": [
        [
         "0",
         "France",
         "FRA",
         "1870",
         "0.3"
        ],
        [
         "1",
         "France",
         "FRA",
         "1913",
         "1.5"
        ],
        [
         "2",
         "France",
         "FRA",
         "1937",
         "1.3"
        ],
        [
         "3",
         "France",
         "FRA",
         "1960",
         "2.4"
        ],
        [
         "4",
         "France",
         "FRA",
         "1970",
         "3.42974"
        ],
        [
         "5",
         "France",
         "FRA",
         "1971",
         "3.17421"
        ],
        [
         "6",
         "France",
         "FRA",
         "1972",
         "3.35918"
        ],
        [
         "7",
         "France",
         "FRA",
         "1973",
         "3.23003"
        ],
        [
         "8",
         "France",
         "FRA",
         "1974",
         "4.24202"
        ],
        [
         "9",
         "France",
         "FRA",
         "1975",
         "4.42854"
        ],
        [
         "10",
         "France",
         "FRA",
         "1976",
         "4.42471"
        ],
        [
         "11",
         "France",
         "FRA",
         "1977",
         "4.43521"
        ],
        [
         "12",
         "France",
         "FRA",
         "1978",
         "4.34511"
        ],
        [
         "13",
         "France",
         "FRA",
         "1979",
         "4.28116"
        ],
        [
         "14",
         "France",
         "FRA",
         "1980",
         "4.30769"
        ],
        [
         "15",
         "France",
         "FRA",
         "1981",
         "4.73072"
        ],
        [
         "16",
         "France",
         "FRA",
         "1982",
         "4.85203"
        ],
        [
         "17",
         "France",
         "FRA",
         "1983",
         "4.85234"
        ],
        [
         "18",
         "France",
         "FRA",
         "1984",
         "4.86754"
        ],
        [
         "19",
         "France",
         "FRA",
         "1985",
         "4.85157"
        ],
        [
         "20",
         "France",
         "FRA",
         "1986",
         "4.70795"
        ],
        [
         "21",
         "France",
         "FRA",
         "1987",
         "4.62344"
        ],
        [
         "22",
         "France",
         "FRA",
         "1988",
         "4.54472"
        ],
        [
         "23",
         "France",
         "FRA",
         "1989",
         "4.4564"
        ],
        [
         "24",
         "France",
         "FRA",
         "1990",
         "4.51394"
        ],
        [
         "25",
         "France",
         "FRA",
         "1991",
         "4.8413"
        ],
        [
         "26",
         "France",
         "FRA",
         "1992",
         "4.73539"
        ],
        [
         "27",
         "France",
         "FRA",
         "1993",
         "5.42959"
        ],
        [
         "28",
         "France",
         "FRA",
         "1994",
         "5.62643"
        ],
        [
         "29",
         "France",
         "FRA",
         "1995",
         "5.79073"
        ],
        [
         "30",
         "France",
         "FRA",
         "1996",
         "5.75672"
        ],
        [
         "31",
         "France",
         "FRA",
         "1998",
         "5.68792"
        ],
        [
         "32",
         "France",
         "FRA",
         "2000",
         "5.6002192"
        ],
        [
         "33",
         "France",
         "FRA",
         "2001",
         "5.6178"
        ],
        [
         "34",
         "France",
         "FRA",
         "2002",
         "5.7809753"
        ],
        [
         "35",
         "France",
         "FRA",
         "2003",
         "5.762063"
        ],
        [
         "36",
         "France",
         "FRA",
         "2004",
         "5.549234"
        ],
        [
         "37",
         "France",
         "FRA",
         "2005",
         "5.5172276"
        ],
        [
         "38",
         "France",
         "FRA",
         "2006",
         "5.4753103"
        ],
        [
         "39",
         "France",
         "FRA",
         "2007",
         "5.3045287"
        ],
        [
         "40",
         "France",
         "FRA",
         "2008",
         "5.3872757"
        ],
        [
         "41",
         "France",
         "FRA",
         "2009",
         "5.669219"
        ],
        [
         "42",
         "France",
         "FRA",
         "2010",
         "5.6427917"
        ],
        [
         "43",
         "France",
         "FRA",
         "2011",
         "5.4801154"
        ],
        [
         "44",
         "France",
         "FRA",
         "2012",
         "5.488356"
        ],
        [
         "45",
         "France",
         "FRA",
         "2013",
         "5.4928937"
        ],
        [
         "46",
         "France",
         "FRA",
         "2014",
         "5.4892044"
        ],
        [
         "47",
         "France",
         "FRA",
         "2015",
         "5.4464273"
        ],
        [
         "48",
         "France",
         "FRA",
         "2016",
         "5.408058"
        ],
        [
         "49",
         "France",
         "FRA",
         "2017",
         "5.4516"
        ]
       ],
       "shape": {
        "columns": 4,
        "rows": 301
       }
      },
      "text/html": [
       "<div>\n",
       "<style scoped>\n",
       "    .dataframe tbody tr th:only-of-type {\n",
       "        vertical-align: middle;\n",
       "    }\n",
       "\n",
       "    .dataframe tbody tr th {\n",
       "        vertical-align: top;\n",
       "    }\n",
       "\n",
       "    .dataframe thead th {\n",
       "        text-align: right;\n",
       "    }\n",
       "</style>\n",
       "<table border=\"1\" class=\"dataframe\">\n",
       "  <thead>\n",
       "    <tr style=\"text-align: right;\">\n",
       "      <th></th>\n",
       "      <th>Entity</th>\n",
       "      <th>Code</th>\n",
       "      <th>Year</th>\n",
       "      <th>Public spending on education as a share of GDP (historical and recent)</th>\n",
       "    </tr>\n",
       "  </thead>\n",
       "  <tbody>\n",
       "    <tr>\n",
       "      <th>0</th>\n",
       "      <td>France</td>\n",
       "      <td>FRA</td>\n",
       "      <td>1870</td>\n",
       "      <td>0.300000</td>\n",
       "    </tr>\n",
       "    <tr>\n",
       "      <th>1</th>\n",
       "      <td>France</td>\n",
       "      <td>FRA</td>\n",
       "      <td>1913</td>\n",
       "      <td>1.500000</td>\n",
       "    </tr>\n",
       "    <tr>\n",
       "      <th>2</th>\n",
       "      <td>France</td>\n",
       "      <td>FRA</td>\n",
       "      <td>1937</td>\n",
       "      <td>1.300000</td>\n",
       "    </tr>\n",
       "    <tr>\n",
       "      <th>3</th>\n",
       "      <td>France</td>\n",
       "      <td>FRA</td>\n",
       "      <td>1960</td>\n",
       "      <td>2.400000</td>\n",
       "    </tr>\n",
       "    <tr>\n",
       "      <th>4</th>\n",
       "      <td>France</td>\n",
       "      <td>FRA</td>\n",
       "      <td>1970</td>\n",
       "      <td>3.429740</td>\n",
       "    </tr>\n",
       "    <tr>\n",
       "      <th>...</th>\n",
       "      <td>...</td>\n",
       "      <td>...</td>\n",
       "      <td>...</td>\n",
       "      <td>...</td>\n",
       "    </tr>\n",
       "    <tr>\n",
       "      <th>296</th>\n",
       "      <td>United States</td>\n",
       "      <td>USA</td>\n",
       "      <td>2018</td>\n",
       "      <td>4.895020</td>\n",
       "    </tr>\n",
       "    <tr>\n",
       "      <th>297</th>\n",
       "      <td>United States</td>\n",
       "      <td>USA</td>\n",
       "      <td>2019</td>\n",
       "      <td>4.957470</td>\n",
       "    </tr>\n",
       "    <tr>\n",
       "      <th>298</th>\n",
       "      <td>United States</td>\n",
       "      <td>USA</td>\n",
       "      <td>2020</td>\n",
       "      <td>5.399980</td>\n",
       "    </tr>\n",
       "    <tr>\n",
       "      <th>299</th>\n",
       "      <td>United States</td>\n",
       "      <td>USA</td>\n",
       "      <td>2021</td>\n",
       "      <td>5.428300</td>\n",
       "    </tr>\n",
       "    <tr>\n",
       "      <th>300</th>\n",
       "      <td>United States</td>\n",
       "      <td>USA</td>\n",
       "      <td>2022</td>\n",
       "      <td>5.382429</td>\n",
       "    </tr>\n",
       "  </tbody>\n",
       "</table>\n",
       "<p>301 rows × 4 columns</p>\n",
       "</div>"
      ],
      "text/plain": [
       "            Entity Code  Year  \\\n",
       "0           France  FRA  1870   \n",
       "1           France  FRA  1913   \n",
       "2           France  FRA  1937   \n",
       "3           France  FRA  1960   \n",
       "4           France  FRA  1970   \n",
       "..             ...  ...   ...   \n",
       "296  United States  USA  2018   \n",
       "297  United States  USA  2019   \n",
       "298  United States  USA  2020   \n",
       "299  United States  USA  2021   \n",
       "300  United States  USA  2022   \n",
       "\n",
       "     Public spending on education as a share of GDP (historical and recent)  \n",
       "0                                             0.300000                       \n",
       "1                                             1.500000                       \n",
       "2                                             1.300000                       \n",
       "3                                             2.400000                       \n",
       "4                                             3.429740                       \n",
       "..                                                 ...                       \n",
       "296                                           4.895020                       \n",
       "297                                           4.957470                       \n",
       "298                                           5.399980                       \n",
       "299                                           5.428300                       \n",
       "300                                           5.382429                       \n",
       "\n",
       "[301 rows x 4 columns]"
      ]
     },
     "execution_count": 34,
     "metadata": {},
     "output_type": "execute_result"
    }
   ],
   "source": [
    "df_raw"
   ]
  },
  {
   "cell_type": "code",
   "execution_count": 35,
   "id": "d4cc8d71",
   "metadata": {},
   "outputs": [
    {
     "name": "stdout",
     "output_type": "stream",
     "text": [
      "Series([], Name: Code, dtype: object)\n",
      "Series([], Name: Code, dtype: object)\n",
      "Series([], Name: Code, dtype: object)\n",
      "Series([], Name: Code, dtype: object)\n",
      "Series([], Name: Code, dtype: object)\n",
      "Series([], Name: Code, dtype: object)\n"
     ]
    },
    {
     "name": "stderr",
     "output_type": "stream",
     "text": [
      "C:\\Users\\11gmoretto\\AppData\\Local\\Temp\\ipykernel_14212\\242856277.py:10: FutureWarning: ChainedAssignmentError: behaviour will change in pandas 3.0!\n",
      "You are setting values through chained assignment. Currently this works in certain cases, but when using Copy-on-Write (which will become the default behaviour in pandas 3.0) this will never work to update the original DataFrame or Series, because the intermediate object on which we are setting values will behave as a copy.\n",
      "A typical example is when you are setting values in a column of a DataFrame, like:\n",
      "\n",
      "df[\"col\"][row_indexer] = value\n",
      "\n",
      "Use `df.loc[row_indexer, \"col\"] = values` instead, to perform the assignment in a single step and ensure this keeps updating the original `df`.\n",
      "\n",
      "See the caveats in the documentation: https://pandas.pydata.org/pandas-docs/stable/user_guide/indexing.html#returning-a-view-versus-a-copy\n",
      "\n",
      "  df_raw[\"Code\"].loc[df_raw[\"Entity\"]==region] = code[region]\n",
      "C:\\Users\\11gmoretto\\AppData\\Local\\Temp\\ipykernel_14212\\242856277.py:10: SettingWithCopyWarning: \n",
      "A value is trying to be set on a copy of a slice from a DataFrame\n",
      "\n",
      "See the caveats in the documentation: https://pandas.pydata.org/pandas-docs/stable/user_guide/indexing.html#returning-a-view-versus-a-copy\n",
      "  df_raw[\"Code\"].loc[df_raw[\"Entity\"]==region] = code[region]\n",
      "C:\\Users\\11gmoretto\\AppData\\Local\\Temp\\ipykernel_14212\\242856277.py:10: FutureWarning: ChainedAssignmentError: behaviour will change in pandas 3.0!\n",
      "You are setting values through chained assignment. Currently this works in certain cases, but when using Copy-on-Write (which will become the default behaviour in pandas 3.0) this will never work to update the original DataFrame or Series, because the intermediate object on which we are setting values will behave as a copy.\n",
      "A typical example is when you are setting values in a column of a DataFrame, like:\n",
      "\n",
      "df[\"col\"][row_indexer] = value\n",
      "\n",
      "Use `df.loc[row_indexer, \"col\"] = values` instead, to perform the assignment in a single step and ensure this keeps updating the original `df`.\n",
      "\n",
      "See the caveats in the documentation: https://pandas.pydata.org/pandas-docs/stable/user_guide/indexing.html#returning-a-view-versus-a-copy\n",
      "\n",
      "  df_raw[\"Code\"].loc[df_raw[\"Entity\"]==region] = code[region]\n",
      "C:\\Users\\11gmoretto\\AppData\\Local\\Temp\\ipykernel_14212\\242856277.py:10: SettingWithCopyWarning: \n",
      "A value is trying to be set on a copy of a slice from a DataFrame\n",
      "\n",
      "See the caveats in the documentation: https://pandas.pydata.org/pandas-docs/stable/user_guide/indexing.html#returning-a-view-versus-a-copy\n",
      "  df_raw[\"Code\"].loc[df_raw[\"Entity\"]==region] = code[region]\n",
      "C:\\Users\\11gmoretto\\AppData\\Local\\Temp\\ipykernel_14212\\242856277.py:10: FutureWarning: ChainedAssignmentError: behaviour will change in pandas 3.0!\n",
      "You are setting values through chained assignment. Currently this works in certain cases, but when using Copy-on-Write (which will become the default behaviour in pandas 3.0) this will never work to update the original DataFrame or Series, because the intermediate object on which we are setting values will behave as a copy.\n",
      "A typical example is when you are setting values in a column of a DataFrame, like:\n",
      "\n",
      "df[\"col\"][row_indexer] = value\n",
      "\n",
      "Use `df.loc[row_indexer, \"col\"] = values` instead, to perform the assignment in a single step and ensure this keeps updating the original `df`.\n",
      "\n",
      "See the caveats in the documentation: https://pandas.pydata.org/pandas-docs/stable/user_guide/indexing.html#returning-a-view-versus-a-copy\n",
      "\n",
      "  df_raw[\"Code\"].loc[df_raw[\"Entity\"]==region] = code[region]\n",
      "C:\\Users\\11gmoretto\\AppData\\Local\\Temp\\ipykernel_14212\\242856277.py:10: SettingWithCopyWarning: \n",
      "A value is trying to be set on a copy of a slice from a DataFrame\n",
      "\n",
      "See the caveats in the documentation: https://pandas.pydata.org/pandas-docs/stable/user_guide/indexing.html#returning-a-view-versus-a-copy\n",
      "  df_raw[\"Code\"].loc[df_raw[\"Entity\"]==region] = code[region]\n",
      "C:\\Users\\11gmoretto\\AppData\\Local\\Temp\\ipykernel_14212\\242856277.py:10: FutureWarning: ChainedAssignmentError: behaviour will change in pandas 3.0!\n",
      "You are setting values through chained assignment. Currently this works in certain cases, but when using Copy-on-Write (which will become the default behaviour in pandas 3.0) this will never work to update the original DataFrame or Series, because the intermediate object on which we are setting values will behave as a copy.\n",
      "A typical example is when you are setting values in a column of a DataFrame, like:\n",
      "\n",
      "df[\"col\"][row_indexer] = value\n",
      "\n",
      "Use `df.loc[row_indexer, \"col\"] = values` instead, to perform the assignment in a single step and ensure this keeps updating the original `df`.\n",
      "\n",
      "See the caveats in the documentation: https://pandas.pydata.org/pandas-docs/stable/user_guide/indexing.html#returning-a-view-versus-a-copy\n",
      "\n",
      "  df_raw[\"Code\"].loc[df_raw[\"Entity\"]==region] = code[region]\n",
      "C:\\Users\\11gmoretto\\AppData\\Local\\Temp\\ipykernel_14212\\242856277.py:10: SettingWithCopyWarning: \n",
      "A value is trying to be set on a copy of a slice from a DataFrame\n",
      "\n",
      "See the caveats in the documentation: https://pandas.pydata.org/pandas-docs/stable/user_guide/indexing.html#returning-a-view-versus-a-copy\n",
      "  df_raw[\"Code\"].loc[df_raw[\"Entity\"]==region] = code[region]\n",
      "C:\\Users\\11gmoretto\\AppData\\Local\\Temp\\ipykernel_14212\\242856277.py:10: FutureWarning: ChainedAssignmentError: behaviour will change in pandas 3.0!\n",
      "You are setting values through chained assignment. Currently this works in certain cases, but when using Copy-on-Write (which will become the default behaviour in pandas 3.0) this will never work to update the original DataFrame or Series, because the intermediate object on which we are setting values will behave as a copy.\n",
      "A typical example is when you are setting values in a column of a DataFrame, like:\n",
      "\n",
      "df[\"col\"][row_indexer] = value\n",
      "\n",
      "Use `df.loc[row_indexer, \"col\"] = values` instead, to perform the assignment in a single step and ensure this keeps updating the original `df`.\n",
      "\n",
      "See the caveats in the documentation: https://pandas.pydata.org/pandas-docs/stable/user_guide/indexing.html#returning-a-view-versus-a-copy\n",
      "\n",
      "  df_raw[\"Code\"].loc[df_raw[\"Entity\"]==region] = code[region]\n",
      "C:\\Users\\11gmoretto\\AppData\\Local\\Temp\\ipykernel_14212\\242856277.py:10: SettingWithCopyWarning: \n",
      "A value is trying to be set on a copy of a slice from a DataFrame\n",
      "\n",
      "See the caveats in the documentation: https://pandas.pydata.org/pandas-docs/stable/user_guide/indexing.html#returning-a-view-versus-a-copy\n",
      "  df_raw[\"Code\"].loc[df_raw[\"Entity\"]==region] = code[region]\n",
      "C:\\Users\\11gmoretto\\AppData\\Local\\Temp\\ipykernel_14212\\242856277.py:10: FutureWarning: ChainedAssignmentError: behaviour will change in pandas 3.0!\n",
      "You are setting values through chained assignment. Currently this works in certain cases, but when using Copy-on-Write (which will become the default behaviour in pandas 3.0) this will never work to update the original DataFrame or Series, because the intermediate object on which we are setting values will behave as a copy.\n",
      "A typical example is when you are setting values in a column of a DataFrame, like:\n",
      "\n",
      "df[\"col\"][row_indexer] = value\n",
      "\n",
      "Use `df.loc[row_indexer, \"col\"] = values` instead, to perform the assignment in a single step and ensure this keeps updating the original `df`.\n",
      "\n",
      "See the caveats in the documentation: https://pandas.pydata.org/pandas-docs/stable/user_guide/indexing.html#returning-a-view-versus-a-copy\n",
      "\n",
      "  df_raw[\"Code\"].loc[df_raw[\"Entity\"]==region] = code[region]\n",
      "C:\\Users\\11gmoretto\\AppData\\Local\\Temp\\ipykernel_14212\\242856277.py:10: SettingWithCopyWarning: \n",
      "A value is trying to be set on a copy of a slice from a DataFrame\n",
      "\n",
      "See the caveats in the documentation: https://pandas.pydata.org/pandas-docs/stable/user_guide/indexing.html#returning-a-view-versus-a-copy\n",
      "  df_raw[\"Code\"].loc[df_raw[\"Entity\"]==region] = code[region]\n"
     ]
    }
   ],
   "source": [
    "regions = ['Africa','Asia', 'Europe', 'North America', 'Oceania', 'South America']\n",
    "code = {\"Africa\": \"AFR\",\n",
    "        \"Asia\": \"ASI\",\n",
    "        \"Europe\": \"EUR\",\n",
    "        \"North America\": \"AMN\",\n",
    "        \"Oceania\": \"OCE\",\n",
    "        \"South America\": \"AMS\"}\n",
    "\n",
    "for region in regions:\n",
    "    df_raw[\"Code\"].loc[df_raw[\"Entity\"]==region] = code[region]\n",
    "    print(df_raw[\"Code\"].loc[df_raw[\"Entity\"]==region])\n",
    "    \n",
    "\n"
   ]
  },
  {
   "cell_type": "code",
   "execution_count": 36,
   "id": "e41aeab1",
   "metadata": {},
   "outputs": [
    {
     "data": {
      "application/vnd.microsoft.datawrangler.viewer.v0+json": {
       "columns": [
        {
         "name": "index",
         "rawType": "int64",
         "type": "integer"
        },
        {
         "name": "COUNTRYCODE",
         "rawType": "object",
         "type": "string"
        },
        {
         "name": "YEAR",
         "rawType": "int64",
         "type": "integer"
        },
        {
         "name": "EDUCATIONGDPSHARE",
         "rawType": "float64",
         "type": "float"
        }
       ],
       "ref": "b398fbc0-c319-4f60-9c70-a881c13be653",
       "rows": [
        [
         "0",
         "FRA",
         "1870",
         "0.3"
        ],
        [
         "1",
         "FRA",
         "1913",
         "1.5"
        ],
        [
         "2",
         "FRA",
         "1937",
         "1.3"
        ],
        [
         "3",
         "FRA",
         "1960",
         "2.4"
        ],
        [
         "4",
         "FRA",
         "1970",
         "3.42974"
        ],
        [
         "5",
         "FRA",
         "1971",
         "3.17421"
        ],
        [
         "6",
         "FRA",
         "1972",
         "3.35918"
        ],
        [
         "7",
         "FRA",
         "1973",
         "3.23003"
        ],
        [
         "8",
         "FRA",
         "1974",
         "4.24202"
        ],
        [
         "9",
         "FRA",
         "1975",
         "4.42854"
        ],
        [
         "10",
         "FRA",
         "1976",
         "4.42471"
        ],
        [
         "11",
         "FRA",
         "1977",
         "4.43521"
        ],
        [
         "12",
         "FRA",
         "1978",
         "4.34511"
        ],
        [
         "13",
         "FRA",
         "1979",
         "4.28116"
        ],
        [
         "14",
         "FRA",
         "1980",
         "4.30769"
        ],
        [
         "15",
         "FRA",
         "1981",
         "4.73072"
        ],
        [
         "16",
         "FRA",
         "1982",
         "4.85203"
        ],
        [
         "17",
         "FRA",
         "1983",
         "4.85234"
        ],
        [
         "18",
         "FRA",
         "1984",
         "4.86754"
        ],
        [
         "19",
         "FRA",
         "1985",
         "4.85157"
        ],
        [
         "20",
         "FRA",
         "1986",
         "4.70795"
        ],
        [
         "21",
         "FRA",
         "1987",
         "4.62344"
        ],
        [
         "22",
         "FRA",
         "1988",
         "4.54472"
        ],
        [
         "23",
         "FRA",
         "1989",
         "4.4564"
        ],
        [
         "24",
         "FRA",
         "1990",
         "4.51394"
        ],
        [
         "25",
         "FRA",
         "1991",
         "4.8413"
        ],
        [
         "26",
         "FRA",
         "1992",
         "4.73539"
        ],
        [
         "27",
         "FRA",
         "1993",
         "5.42959"
        ],
        [
         "28",
         "FRA",
         "1994",
         "5.62643"
        ],
        [
         "29",
         "FRA",
         "1995",
         "5.79073"
        ],
        [
         "30",
         "FRA",
         "1996",
         "5.75672"
        ],
        [
         "31",
         "FRA",
         "1998",
         "5.68792"
        ],
        [
         "32",
         "FRA",
         "2000",
         "5.6002192"
        ],
        [
         "33",
         "FRA",
         "2001",
         "5.6178"
        ],
        [
         "34",
         "FRA",
         "2002",
         "5.7809753"
        ],
        [
         "35",
         "FRA",
         "2003",
         "5.762063"
        ],
        [
         "36",
         "FRA",
         "2004",
         "5.549234"
        ],
        [
         "37",
         "FRA",
         "2005",
         "5.5172276"
        ],
        [
         "38",
         "FRA",
         "2006",
         "5.4753103"
        ],
        [
         "39",
         "FRA",
         "2007",
         "5.3045287"
        ],
        [
         "40",
         "FRA",
         "2008",
         "5.3872757"
        ],
        [
         "41",
         "FRA",
         "2009",
         "5.669219"
        ],
        [
         "42",
         "FRA",
         "2010",
         "5.6427917"
        ],
        [
         "43",
         "FRA",
         "2011",
         "5.4801154"
        ],
        [
         "44",
         "FRA",
         "2012",
         "5.488356"
        ],
        [
         "45",
         "FRA",
         "2013",
         "5.4928937"
        ],
        [
         "46",
         "FRA",
         "2014",
         "5.4892044"
        ],
        [
         "47",
         "FRA",
         "2015",
         "5.4464273"
        ],
        [
         "48",
         "FRA",
         "2016",
         "5.408058"
        ],
        [
         "49",
         "FRA",
         "2017",
         "5.4516"
        ]
       ],
       "shape": {
        "columns": 3,
        "rows": 301
       }
      },
      "text/html": [
       "<div>\n",
       "<style scoped>\n",
       "    .dataframe tbody tr th:only-of-type {\n",
       "        vertical-align: middle;\n",
       "    }\n",
       "\n",
       "    .dataframe tbody tr th {\n",
       "        vertical-align: top;\n",
       "    }\n",
       "\n",
       "    .dataframe thead th {\n",
       "        text-align: right;\n",
       "    }\n",
       "</style>\n",
       "<table border=\"1\" class=\"dataframe\">\n",
       "  <thead>\n",
       "    <tr style=\"text-align: right;\">\n",
       "      <th></th>\n",
       "      <th>COUNTRYCODE</th>\n",
       "      <th>YEAR</th>\n",
       "      <th>EDUCATIONGDPSHARE</th>\n",
       "    </tr>\n",
       "  </thead>\n",
       "  <tbody>\n",
       "    <tr>\n",
       "      <th>0</th>\n",
       "      <td>FRA</td>\n",
       "      <td>1870</td>\n",
       "      <td>0.300000</td>\n",
       "    </tr>\n",
       "    <tr>\n",
       "      <th>1</th>\n",
       "      <td>FRA</td>\n",
       "      <td>1913</td>\n",
       "      <td>1.500000</td>\n",
       "    </tr>\n",
       "    <tr>\n",
       "      <th>2</th>\n",
       "      <td>FRA</td>\n",
       "      <td>1937</td>\n",
       "      <td>1.300000</td>\n",
       "    </tr>\n",
       "    <tr>\n",
       "      <th>3</th>\n",
       "      <td>FRA</td>\n",
       "      <td>1960</td>\n",
       "      <td>2.400000</td>\n",
       "    </tr>\n",
       "    <tr>\n",
       "      <th>4</th>\n",
       "      <td>FRA</td>\n",
       "      <td>1970</td>\n",
       "      <td>3.429740</td>\n",
       "    </tr>\n",
       "    <tr>\n",
       "      <th>...</th>\n",
       "      <td>...</td>\n",
       "      <td>...</td>\n",
       "      <td>...</td>\n",
       "    </tr>\n",
       "    <tr>\n",
       "      <th>296</th>\n",
       "      <td>USA</td>\n",
       "      <td>2018</td>\n",
       "      <td>4.895020</td>\n",
       "    </tr>\n",
       "    <tr>\n",
       "      <th>297</th>\n",
       "      <td>USA</td>\n",
       "      <td>2019</td>\n",
       "      <td>4.957470</td>\n",
       "    </tr>\n",
       "    <tr>\n",
       "      <th>298</th>\n",
       "      <td>USA</td>\n",
       "      <td>2020</td>\n",
       "      <td>5.399980</td>\n",
       "    </tr>\n",
       "    <tr>\n",
       "      <th>299</th>\n",
       "      <td>USA</td>\n",
       "      <td>2021</td>\n",
       "      <td>5.428300</td>\n",
       "    </tr>\n",
       "    <tr>\n",
       "      <th>300</th>\n",
       "      <td>USA</td>\n",
       "      <td>2022</td>\n",
       "      <td>5.382429</td>\n",
       "    </tr>\n",
       "  </tbody>\n",
       "</table>\n",
       "<p>301 rows × 3 columns</p>\n",
       "</div>"
      ],
      "text/plain": [
       "    COUNTRYCODE  YEAR  EDUCATIONGDPSHARE\n",
       "0           FRA  1870           0.300000\n",
       "1           FRA  1913           1.500000\n",
       "2           FRA  1937           1.300000\n",
       "3           FRA  1960           2.400000\n",
       "4           FRA  1970           3.429740\n",
       "..          ...   ...                ...\n",
       "296         USA  2018           4.895020\n",
       "297         USA  2019           4.957470\n",
       "298         USA  2020           5.399980\n",
       "299         USA  2021           5.428300\n",
       "300         USA  2022           5.382429\n",
       "\n",
       "[301 rows x 3 columns]"
      ]
     },
     "metadata": {},
     "output_type": "display_data"
    }
   ],
   "source": [
    "df = df_raw[[\"Code\", \"Year\", columnName]]\n",
    "df = df.rename(columns={\"Code\": \"COUNTRYCODE\"})\n",
    "df = df.rename(columns={\"Year\": \"YEAR\"})\n",
    "df = df.rename(columns={columnName: newColumnName})\n",
    "display(df)"
   ]
  },
  {
   "cell_type": "code",
   "execution_count": 37,
   "id": "0fb2a94d",
   "metadata": {},
   "outputs": [],
   "source": [
    "\n",
    "df.to_csv(f'data/out/{saveName}.csv', index=False)"
   ]
  }
 ],
 "metadata": {
  "kernelspec": {
   "display_name": "Python 3",
   "language": "python",
   "name": "python3"
  },
  "language_info": {
   "codemirror_mode": {
    "name": "ipython",
    "version": 3
   },
   "file_extension": ".py",
   "mimetype": "text/x-python",
   "name": "python",
   "nbconvert_exporter": "python",
   "pygments_lexer": "ipython3",
   "version": "3.13.5"
  }
 },
 "nbformat": 4,
 "nbformat_minor": 5
}
