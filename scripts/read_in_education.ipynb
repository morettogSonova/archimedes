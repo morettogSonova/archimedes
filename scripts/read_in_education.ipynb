{
 "cells": [
  {
   "cell_type": "code",
   "execution_count": 44,
   "id": "6d89357a",
   "metadata": {},
   "outputs": [],
   "source": [
    "import numpy as numpy\n",
    "import pandas as pd"
   ]
  },
  {
   "cell_type": "code",
   "execution_count": 45,
   "id": "5263c40e",
   "metadata": {},
   "outputs": [],
   "source": [
    "datasource = \"owd-tertiary-education\"  # Example datasource, can be changed\n",
    "# datasource = \"owd-government-expenditure-on-education-gdp\"\n",
    "\n",
    "match datasource:\n",
    "    case \"owd-tertiary-education\":\n",
    "        dataName = \"share-of-the-population-with-completed-tertiary-education\"\n",
    "        saveName = \"owd_education_tertiary_completion_rate\"\n",
    "        columnName = \"Combined - percentage of 25-64 years adults with incomplete tertiary education\"\n",
    "        newColumnName = \"TERTIARYCOMPLETIONRATE\"\n",
    "    case \"owd-government-expenditure-on-education-gdp\":\n",
    "        dataName = \"total-government-expenditure-on-education-gdp\"\n",
    "        saveName = \"owd_education_government_expenditure_gdp\"\n",
    "        columnName = \"Public spending on education as a share of GDP (historical and recent)\"\n",
    "        newColumnName = \"EDUCATIONGDPSHARE\"\n",
    "\n",
    "        \n",
    "        \n",
    "# Read in the share-of-the-population-with-completed-tertiary-education dataset\n",
    "df_raw = pd.read_csv(f'data/in/{dataName}.csv')\n",
    "\n"
   ]
  },
  {
   "cell_type": "code",
   "execution_count": 46,
   "id": "6e7335b5",
   "metadata": {},
   "outputs": [
    {
     "data": {
      "application/vnd.microsoft.datawrangler.viewer.v0+json": {
       "columns": [
        {
         "name": "index",
         "rawType": "int64",
         "type": "integer"
        },
        {
         "name": "Entity",
         "rawType": "object",
         "type": "string"
        },
        {
         "name": "Code",
         "rawType": "object",
         "type": "unknown"
        },
        {
         "name": "Year",
         "rawType": "int64",
         "type": "integer"
        },
        {
         "name": "Combined - percentage of 25-64 years adults with incomplete tertiary education",
         "rawType": "float64",
         "type": "float"
        }
       ],
       "ref": "0f143934-1ad5-4426-9c7d-0a1672d6e9c5",
       "rows": [
        [
         "0",
         "Afghanistan",
         "AFG",
         "1870",
         "0.0"
        ],
        [
         "1",
         "Afghanistan",
         "AFG",
         "1875",
         "0.0"
        ],
        [
         "2",
         "Afghanistan",
         "AFG",
         "1880",
         "0.0"
        ],
        [
         "3",
         "Afghanistan",
         "AFG",
         "1885",
         "0.0"
        ],
        [
         "4",
         "Afghanistan",
         "AFG",
         "1890",
         "0.0"
        ],
        [
         "5",
         "Afghanistan",
         "AFG",
         "1895",
         "0.0"
        ],
        [
         "6",
         "Afghanistan",
         "AFG",
         "1900",
         "0.0"
        ],
        [
         "7",
         "Afghanistan",
         "AFG",
         "1905",
         "0.0"
        ],
        [
         "8",
         "Afghanistan",
         "AFG",
         "1910",
         "0.0"
        ],
        [
         "9",
         "Afghanistan",
         "AFG",
         "1915",
         "0.1"
        ],
        [
         "10",
         "Afghanistan",
         "AFG",
         "1920",
         "0.1"
        ],
        [
         "11",
         "Afghanistan",
         "AFG",
         "1925",
         "0.1"
        ],
        [
         "12",
         "Afghanistan",
         "AFG",
         "1930",
         "0.1"
        ],
        [
         "13",
         "Afghanistan",
         "AFG",
         "1935",
         "0.1"
        ],
        [
         "14",
         "Afghanistan",
         "AFG",
         "1940",
         "0.2"
        ],
        [
         "15",
         "Afghanistan",
         "AFG",
         "1945",
         "0.3"
        ],
        [
         "16",
         "Afghanistan",
         "AFG",
         "1950",
         "0.3"
        ],
        [
         "17",
         "Afghanistan",
         "AFG",
         "1955",
         "0.5"
        ],
        [
         "18",
         "Afghanistan",
         "AFG",
         "1960",
         "0.6"
        ],
        [
         "19",
         "Afghanistan",
         "AFG",
         "1965",
         "0.9"
        ],
        [
         "20",
         "Afghanistan",
         "AFG",
         "1970",
         "1.2"
        ],
        [
         "21",
         "Afghanistan",
         "AFG",
         "1975",
         "2.5"
        ],
        [
         "22",
         "Afghanistan",
         "AFG",
         "1980",
         "3.6"
        ],
        [
         "23",
         "Afghanistan",
         "AFG",
         "1985",
         "4.8"
        ],
        [
         "24",
         "Afghanistan",
         "AFG",
         "1990",
         "6.0"
        ],
        [
         "25",
         "Afghanistan",
         "AFG",
         "1995",
         "7.0"
        ],
        [
         "26",
         "Afghanistan",
         "AFG",
         "2000",
         "7.9"
        ],
        [
         "27",
         "Afghanistan",
         "AFG",
         "2005",
         "8.5"
        ],
        [
         "28",
         "Afghanistan",
         "AFG",
         "2010",
         "8.8"
        ],
        [
         "29",
         "Afghanistan",
         "AFG",
         "2015",
         "8.8"
        ],
        [
         "30",
         "Afghanistan",
         "AFG",
         "2020",
         "8.0"
        ],
        [
         "31",
         "Afghanistan",
         "AFG",
         "2025",
         "7.3"
        ],
        [
         "32",
         "Afghanistan",
         "AFG",
         "2030",
         "5.8"
        ],
        [
         "33",
         "Afghanistan",
         "AFG",
         "2035",
         "4.8"
        ],
        [
         "34",
         "Afghanistan",
         "AFG",
         "2040",
         "4.1"
        ],
        [
         "35",
         "Africa",
         null,
         "1870",
         "0.0"
        ],
        [
         "36",
         "Africa",
         null,
         "1875",
         "0.0"
        ],
        [
         "37",
         "Africa",
         null,
         "1880",
         "0.0"
        ],
        [
         "38",
         "Africa",
         null,
         "1885",
         "0.0"
        ],
        [
         "39",
         "Africa",
         null,
         "1890",
         "0.0058999183"
        ],
        [
         "40",
         "Africa",
         null,
         "1895",
         "0.0060804305"
        ],
        [
         "41",
         "Africa",
         null,
         "1900",
         "0.006786721"
        ],
        [
         "42",
         "Africa",
         null,
         "1905",
         "0.007659175"
        ],
        [
         "43",
         "Africa",
         null,
         "1910",
         "0.026799247"
        ],
        [
         "44",
         "Africa",
         null,
         "1915",
         "0.03390612"
        ],
        [
         "45",
         "Africa",
         null,
         "1920",
         "0.09994243"
        ],
        [
         "46",
         "Africa",
         null,
         "1925",
         "0.17051019"
        ],
        [
         "47",
         "Africa",
         null,
         "1930",
         "0.25357977"
        ],
        [
         "48",
         "Africa",
         null,
         "1935",
         "0.3448825"
        ],
        [
         "49",
         "Africa",
         null,
         "1940",
         "0.45153433"
        ]
       ],
       "shape": {
        "columns": 4,
        "rows": 4311
       }
      },
      "text/html": [
       "<div>\n",
       "<style scoped>\n",
       "    .dataframe tbody tr th:only-of-type {\n",
       "        vertical-align: middle;\n",
       "    }\n",
       "\n",
       "    .dataframe tbody tr th {\n",
       "        vertical-align: top;\n",
       "    }\n",
       "\n",
       "    .dataframe thead th {\n",
       "        text-align: right;\n",
       "    }\n",
       "</style>\n",
       "<table border=\"1\" class=\"dataframe\">\n",
       "  <thead>\n",
       "    <tr style=\"text-align: right;\">\n",
       "      <th></th>\n",
       "      <th>Entity</th>\n",
       "      <th>Code</th>\n",
       "      <th>Year</th>\n",
       "      <th>Combined - percentage of 25-64 years adults with incomplete tertiary education</th>\n",
       "    </tr>\n",
       "  </thead>\n",
       "  <tbody>\n",
       "    <tr>\n",
       "      <th>0</th>\n",
       "      <td>Afghanistan</td>\n",
       "      <td>AFG</td>\n",
       "      <td>1870</td>\n",
       "      <td>0.0</td>\n",
       "    </tr>\n",
       "    <tr>\n",
       "      <th>1</th>\n",
       "      <td>Afghanistan</td>\n",
       "      <td>AFG</td>\n",
       "      <td>1875</td>\n",
       "      <td>0.0</td>\n",
       "    </tr>\n",
       "    <tr>\n",
       "      <th>2</th>\n",
       "      <td>Afghanistan</td>\n",
       "      <td>AFG</td>\n",
       "      <td>1880</td>\n",
       "      <td>0.0</td>\n",
       "    </tr>\n",
       "    <tr>\n",
       "      <th>3</th>\n",
       "      <td>Afghanistan</td>\n",
       "      <td>AFG</td>\n",
       "      <td>1885</td>\n",
       "      <td>0.0</td>\n",
       "    </tr>\n",
       "    <tr>\n",
       "      <th>4</th>\n",
       "      <td>Afghanistan</td>\n",
       "      <td>AFG</td>\n",
       "      <td>1890</td>\n",
       "      <td>0.0</td>\n",
       "    </tr>\n",
       "    <tr>\n",
       "      <th>...</th>\n",
       "      <td>...</td>\n",
       "      <td>...</td>\n",
       "      <td>...</td>\n",
       "      <td>...</td>\n",
       "    </tr>\n",
       "    <tr>\n",
       "      <th>4306</th>\n",
       "      <td>Zimbabwe</td>\n",
       "      <td>ZWE</td>\n",
       "      <td>2020</td>\n",
       "      <td>0.7</td>\n",
       "    </tr>\n",
       "    <tr>\n",
       "      <th>4307</th>\n",
       "      <td>Zimbabwe</td>\n",
       "      <td>ZWE</td>\n",
       "      <td>2025</td>\n",
       "      <td>1.0</td>\n",
       "    </tr>\n",
       "    <tr>\n",
       "      <th>4308</th>\n",
       "      <td>Zimbabwe</td>\n",
       "      <td>ZWE</td>\n",
       "      <td>2030</td>\n",
       "      <td>1.9</td>\n",
       "    </tr>\n",
       "    <tr>\n",
       "      <th>4309</th>\n",
       "      <td>Zimbabwe</td>\n",
       "      <td>ZWE</td>\n",
       "      <td>2035</td>\n",
       "      <td>3.3</td>\n",
       "    </tr>\n",
       "    <tr>\n",
       "      <th>4310</th>\n",
       "      <td>Zimbabwe</td>\n",
       "      <td>ZWE</td>\n",
       "      <td>2040</td>\n",
       "      <td>5.5</td>\n",
       "    </tr>\n",
       "  </tbody>\n",
       "</table>\n",
       "<p>4311 rows × 4 columns</p>\n",
       "</div>"
      ],
      "text/plain": [
       "           Entity Code  Year  \\\n",
       "0     Afghanistan  AFG  1870   \n",
       "1     Afghanistan  AFG  1875   \n",
       "2     Afghanistan  AFG  1880   \n",
       "3     Afghanistan  AFG  1885   \n",
       "4     Afghanistan  AFG  1890   \n",
       "...           ...  ...   ...   \n",
       "4306     Zimbabwe  ZWE  2020   \n",
       "4307     Zimbabwe  ZWE  2025   \n",
       "4308     Zimbabwe  ZWE  2030   \n",
       "4309     Zimbabwe  ZWE  2035   \n",
       "4310     Zimbabwe  ZWE  2040   \n",
       "\n",
       "      Combined - percentage of 25-64 years adults with incomplete tertiary education  \n",
       "0                                                   0.0                               \n",
       "1                                                   0.0                               \n",
       "2                                                   0.0                               \n",
       "3                                                   0.0                               \n",
       "4                                                   0.0                               \n",
       "...                                                 ...                               \n",
       "4306                                                0.7                               \n",
       "4307                                                1.0                               \n",
       "4308                                                1.9                               \n",
       "4309                                                3.3                               \n",
       "4310                                                5.5                               \n",
       "\n",
       "[4311 rows x 4 columns]"
      ]
     },
     "execution_count": 46,
     "metadata": {},
     "output_type": "execute_result"
    }
   ],
   "source": [
    "df_raw"
   ]
  },
  {
   "cell_type": "code",
   "execution_count": 47,
   "id": "d4cc8d71",
   "metadata": {},
   "outputs": [
    {
     "name": "stdout",
     "output_type": "stream",
     "text": [
      "35    AFR\n",
      "36    AFR\n",
      "37    AFR\n",
      "38    AFR\n",
      "39    AFR\n",
      "40    AFR\n",
      "41    AFR\n",
      "42    AFR\n",
      "43    AFR\n",
      "44    AFR\n",
      "45    AFR\n",
      "46    AFR\n",
      "47    AFR\n",
      "48    AFR\n",
      "49    AFR\n",
      "50    AFR\n",
      "51    AFR\n",
      "52    AFR\n",
      "53    AFR\n",
      "54    AFR\n",
      "55    AFR\n",
      "56    AFR\n",
      "57    AFR\n",
      "58    AFR\n",
      "59    AFR\n",
      "60    AFR\n",
      "61    AFR\n",
      "62    AFR\n",
      "63    AFR\n",
      "64    AFR\n",
      "65    AFR\n",
      "66    AFR\n",
      "67    AFR\n",
      "68    AFR\n",
      "69    AFR\n",
      "Name: Code, dtype: object\n",
      "181    ASI\n",
      "182    ASI\n",
      "183    ASI\n",
      "184    ASI\n",
      "185    ASI\n",
      "186    ASI\n",
      "187    ASI\n",
      "188    ASI\n",
      "189    ASI\n",
      "190    ASI\n",
      "191    ASI\n",
      "192    ASI\n",
      "193    ASI\n",
      "194    ASI\n",
      "195    ASI\n",
      "196    ASI\n",
      "197    ASI\n",
      "198    ASI\n",
      "199    ASI\n",
      "200    ASI\n",
      "201    ASI\n",
      "202    ASI\n",
      "203    ASI\n",
      "204    ASI\n",
      "205    ASI\n",
      "206    ASI\n",
      "207    ASI\n",
      "208    ASI\n",
      "209    ASI\n",
      "210    ASI\n",
      "211    ASI\n",
      "212    ASI\n",
      "213    ASI\n",
      "214    ASI\n",
      "215    ASI\n",
      "Name: Code, dtype: object\n",
      "1244    EUR\n",
      "1245    EUR\n",
      "1246    EUR\n",
      "1247    EUR\n",
      "1248    EUR\n",
      "1249    EUR\n",
      "1250    EUR\n",
      "1251    EUR\n",
      "1252    EUR\n",
      "1253    EUR\n",
      "1254    EUR\n",
      "1255    EUR\n",
      "1256    EUR\n",
      "1257    EUR\n",
      "1258    EUR\n",
      "1259    EUR\n",
      "1260    EUR\n",
      "1261    EUR\n",
      "1262    EUR\n",
      "1263    EUR\n",
      "1264    EUR\n",
      "1265    EUR\n",
      "1266    EUR\n",
      "1267    EUR\n",
      "1268    EUR\n",
      "1269    EUR\n",
      "1270    EUR\n",
      "1271    EUR\n",
      "1272    EUR\n",
      "1273    EUR\n",
      "1274    EUR\n",
      "1275    EUR\n",
      "1276    EUR\n",
      "1277    EUR\n",
      "1278    EUR\n",
      "Name: Code, dtype: object\n",
      "2862    AMN\n",
      "2863    AMN\n",
      "2864    AMN\n",
      "2865    AMN\n",
      "2866    AMN\n",
      "2867    AMN\n",
      "2868    AMN\n",
      "2869    AMN\n",
      "2870    AMN\n",
      "2871    AMN\n",
      "2872    AMN\n",
      "2873    AMN\n",
      "2874    AMN\n",
      "2875    AMN\n",
      "2876    AMN\n",
      "2877    AMN\n",
      "2878    AMN\n",
      "2879    AMN\n",
      "2880    AMN\n",
      "2881    AMN\n",
      "2882    AMN\n",
      "2883    AMN\n",
      "2884    AMN\n",
      "2885    AMN\n",
      "2886    AMN\n",
      "2887    AMN\n",
      "2888    AMN\n",
      "2889    AMN\n",
      "2890    AMN\n",
      "2891    AMN\n",
      "2892    AMN\n",
      "2893    AMN\n",
      "2894    AMN\n",
      "2895    AMN\n",
      "2896    AMN\n",
      "Name: Code, dtype: object\n",
      "2932    OCE\n",
      "2933    OCE\n",
      "2934    OCE\n",
      "2935    OCE\n",
      "2936    OCE\n",
      "2937    OCE\n",
      "Name: Code, dtype: object\n",
      "3470    AMS\n",
      "3471    AMS\n",
      "3472    AMS\n",
      "3473    AMS\n",
      "3474    AMS\n",
      "3475    AMS\n",
      "3476    AMS\n",
      "3477    AMS\n",
      "3478    AMS\n",
      "3479    AMS\n",
      "3480    AMS\n",
      "3481    AMS\n",
      "3482    AMS\n",
      "3483    AMS\n",
      "3484    AMS\n",
      "3485    AMS\n",
      "3486    AMS\n",
      "3487    AMS\n",
      "3488    AMS\n",
      "3489    AMS\n",
      "3490    AMS\n",
      "3491    AMS\n",
      "3492    AMS\n",
      "3493    AMS\n",
      "3494    AMS\n",
      "3495    AMS\n",
      "3496    AMS\n",
      "3497    AMS\n",
      "3498    AMS\n",
      "3499    AMS\n",
      "3500    AMS\n",
      "3501    AMS\n",
      "3502    AMS\n",
      "3503    AMS\n",
      "3504    AMS\n",
      "Name: Code, dtype: object\n"
     ]
    },
    {
     "name": "stderr",
     "output_type": "stream",
     "text": [
      "C:\\Users\\11gmoretto\\AppData\\Local\\Temp\\ipykernel_14212\\242856277.py:10: FutureWarning: ChainedAssignmentError: behaviour will change in pandas 3.0!\n",
      "You are setting values through chained assignment. Currently this works in certain cases, but when using Copy-on-Write (which will become the default behaviour in pandas 3.0) this will never work to update the original DataFrame or Series, because the intermediate object on which we are setting values will behave as a copy.\n",
      "A typical example is when you are setting values in a column of a DataFrame, like:\n",
      "\n",
      "df[\"col\"][row_indexer] = value\n",
      "\n",
      "Use `df.loc[row_indexer, \"col\"] = values` instead, to perform the assignment in a single step and ensure this keeps updating the original `df`.\n",
      "\n",
      "See the caveats in the documentation: https://pandas.pydata.org/pandas-docs/stable/user_guide/indexing.html#returning-a-view-versus-a-copy\n",
      "\n",
      "  df_raw[\"Code\"].loc[df_raw[\"Entity\"]==region] = code[region]\n",
      "C:\\Users\\11gmoretto\\AppData\\Local\\Temp\\ipykernel_14212\\242856277.py:10: SettingWithCopyWarning: \n",
      "A value is trying to be set on a copy of a slice from a DataFrame\n",
      "\n",
      "See the caveats in the documentation: https://pandas.pydata.org/pandas-docs/stable/user_guide/indexing.html#returning-a-view-versus-a-copy\n",
      "  df_raw[\"Code\"].loc[df_raw[\"Entity\"]==region] = code[region]\n",
      "C:\\Users\\11gmoretto\\AppData\\Local\\Temp\\ipykernel_14212\\242856277.py:10: FutureWarning: ChainedAssignmentError: behaviour will change in pandas 3.0!\n",
      "You are setting values through chained assignment. Currently this works in certain cases, but when using Copy-on-Write (which will become the default behaviour in pandas 3.0) this will never work to update the original DataFrame or Series, because the intermediate object on which we are setting values will behave as a copy.\n",
      "A typical example is when you are setting values in a column of a DataFrame, like:\n",
      "\n",
      "df[\"col\"][row_indexer] = value\n",
      "\n",
      "Use `df.loc[row_indexer, \"col\"] = values` instead, to perform the assignment in a single step and ensure this keeps updating the original `df`.\n",
      "\n",
      "See the caveats in the documentation: https://pandas.pydata.org/pandas-docs/stable/user_guide/indexing.html#returning-a-view-versus-a-copy\n",
      "\n",
      "  df_raw[\"Code\"].loc[df_raw[\"Entity\"]==region] = code[region]\n",
      "C:\\Users\\11gmoretto\\AppData\\Local\\Temp\\ipykernel_14212\\242856277.py:10: SettingWithCopyWarning: \n",
      "A value is trying to be set on a copy of a slice from a DataFrame\n",
      "\n",
      "See the caveats in the documentation: https://pandas.pydata.org/pandas-docs/stable/user_guide/indexing.html#returning-a-view-versus-a-copy\n",
      "  df_raw[\"Code\"].loc[df_raw[\"Entity\"]==region] = code[region]\n",
      "C:\\Users\\11gmoretto\\AppData\\Local\\Temp\\ipykernel_14212\\242856277.py:10: FutureWarning: ChainedAssignmentError: behaviour will change in pandas 3.0!\n",
      "You are setting values through chained assignment. Currently this works in certain cases, but when using Copy-on-Write (which will become the default behaviour in pandas 3.0) this will never work to update the original DataFrame or Series, because the intermediate object on which we are setting values will behave as a copy.\n",
      "A typical example is when you are setting values in a column of a DataFrame, like:\n",
      "\n",
      "df[\"col\"][row_indexer] = value\n",
      "\n",
      "Use `df.loc[row_indexer, \"col\"] = values` instead, to perform the assignment in a single step and ensure this keeps updating the original `df`.\n",
      "\n",
      "See the caveats in the documentation: https://pandas.pydata.org/pandas-docs/stable/user_guide/indexing.html#returning-a-view-versus-a-copy\n",
      "\n",
      "  df_raw[\"Code\"].loc[df_raw[\"Entity\"]==region] = code[region]\n",
      "C:\\Users\\11gmoretto\\AppData\\Local\\Temp\\ipykernel_14212\\242856277.py:10: SettingWithCopyWarning: \n",
      "A value is trying to be set on a copy of a slice from a DataFrame\n",
      "\n",
      "See the caveats in the documentation: https://pandas.pydata.org/pandas-docs/stable/user_guide/indexing.html#returning-a-view-versus-a-copy\n",
      "  df_raw[\"Code\"].loc[df_raw[\"Entity\"]==region] = code[region]\n",
      "C:\\Users\\11gmoretto\\AppData\\Local\\Temp\\ipykernel_14212\\242856277.py:10: FutureWarning: ChainedAssignmentError: behaviour will change in pandas 3.0!\n",
      "You are setting values through chained assignment. Currently this works in certain cases, but when using Copy-on-Write (which will become the default behaviour in pandas 3.0) this will never work to update the original DataFrame or Series, because the intermediate object on which we are setting values will behave as a copy.\n",
      "A typical example is when you are setting values in a column of a DataFrame, like:\n",
      "\n",
      "df[\"col\"][row_indexer] = value\n",
      "\n",
      "Use `df.loc[row_indexer, \"col\"] = values` instead, to perform the assignment in a single step and ensure this keeps updating the original `df`.\n",
      "\n",
      "See the caveats in the documentation: https://pandas.pydata.org/pandas-docs/stable/user_guide/indexing.html#returning-a-view-versus-a-copy\n",
      "\n",
      "  df_raw[\"Code\"].loc[df_raw[\"Entity\"]==region] = code[region]\n",
      "C:\\Users\\11gmoretto\\AppData\\Local\\Temp\\ipykernel_14212\\242856277.py:10: SettingWithCopyWarning: \n",
      "A value is trying to be set on a copy of a slice from a DataFrame\n",
      "\n",
      "See the caveats in the documentation: https://pandas.pydata.org/pandas-docs/stable/user_guide/indexing.html#returning-a-view-versus-a-copy\n",
      "  df_raw[\"Code\"].loc[df_raw[\"Entity\"]==region] = code[region]\n",
      "C:\\Users\\11gmoretto\\AppData\\Local\\Temp\\ipykernel_14212\\242856277.py:10: FutureWarning: ChainedAssignmentError: behaviour will change in pandas 3.0!\n",
      "You are setting values through chained assignment. Currently this works in certain cases, but when using Copy-on-Write (which will become the default behaviour in pandas 3.0) this will never work to update the original DataFrame or Series, because the intermediate object on which we are setting values will behave as a copy.\n",
      "A typical example is when you are setting values in a column of a DataFrame, like:\n",
      "\n",
      "df[\"col\"][row_indexer] = value\n",
      "\n",
      "Use `df.loc[row_indexer, \"col\"] = values` instead, to perform the assignment in a single step and ensure this keeps updating the original `df`.\n",
      "\n",
      "See the caveats in the documentation: https://pandas.pydata.org/pandas-docs/stable/user_guide/indexing.html#returning-a-view-versus-a-copy\n",
      "\n",
      "  df_raw[\"Code\"].loc[df_raw[\"Entity\"]==region] = code[region]\n",
      "C:\\Users\\11gmoretto\\AppData\\Local\\Temp\\ipykernel_14212\\242856277.py:10: SettingWithCopyWarning: \n",
      "A value is trying to be set on a copy of a slice from a DataFrame\n",
      "\n",
      "See the caveats in the documentation: https://pandas.pydata.org/pandas-docs/stable/user_guide/indexing.html#returning-a-view-versus-a-copy\n",
      "  df_raw[\"Code\"].loc[df_raw[\"Entity\"]==region] = code[region]\n",
      "C:\\Users\\11gmoretto\\AppData\\Local\\Temp\\ipykernel_14212\\242856277.py:10: FutureWarning: ChainedAssignmentError: behaviour will change in pandas 3.0!\n",
      "You are setting values through chained assignment. Currently this works in certain cases, but when using Copy-on-Write (which will become the default behaviour in pandas 3.0) this will never work to update the original DataFrame or Series, because the intermediate object on which we are setting values will behave as a copy.\n",
      "A typical example is when you are setting values in a column of a DataFrame, like:\n",
      "\n",
      "df[\"col\"][row_indexer] = value\n",
      "\n",
      "Use `df.loc[row_indexer, \"col\"] = values` instead, to perform the assignment in a single step and ensure this keeps updating the original `df`.\n",
      "\n",
      "See the caveats in the documentation: https://pandas.pydata.org/pandas-docs/stable/user_guide/indexing.html#returning-a-view-versus-a-copy\n",
      "\n",
      "  df_raw[\"Code\"].loc[df_raw[\"Entity\"]==region] = code[region]\n",
      "C:\\Users\\11gmoretto\\AppData\\Local\\Temp\\ipykernel_14212\\242856277.py:10: SettingWithCopyWarning: \n",
      "A value is trying to be set on a copy of a slice from a DataFrame\n",
      "\n",
      "See the caveats in the documentation: https://pandas.pydata.org/pandas-docs/stable/user_guide/indexing.html#returning-a-view-versus-a-copy\n",
      "  df_raw[\"Code\"].loc[df_raw[\"Entity\"]==region] = code[region]\n"
     ]
    }
   ],
   "source": [
    "regions = ['Africa','Asia', 'Europe', 'North America', 'Oceania', 'South America']\n",
    "code = {\"Africa\": \"AFR\",\n",
    "        \"Asia\": \"ASI\",\n",
    "        \"Europe\": \"EUR\",\n",
    "        \"North America\": \"AMN\",\n",
    "        \"Oceania\": \"OCE\",\n",
    "        \"South America\": \"AMS\"}\n",
    "\n",
    "for region in regions:\n",
    "    df_raw[\"Code\"].loc[df_raw[\"Entity\"]==region] = code[region]\n",
    "    print(df_raw[\"Code\"].loc[df_raw[\"Entity\"]==region])\n",
    "    \n",
    "\n"
   ]
  },
  {
   "cell_type": "code",
   "execution_count": 48,
   "id": "e41aeab1",
   "metadata": {},
   "outputs": [
    {
     "data": {
      "application/vnd.microsoft.datawrangler.viewer.v0+json": {
       "columns": [
        {
         "name": "index",
         "rawType": "int64",
         "type": "integer"
        },
        {
         "name": "COUNTRYCODE",
         "rawType": "object",
         "type": "string"
        },
        {
         "name": "YEAR",
         "rawType": "int64",
         "type": "integer"
        },
        {
         "name": "TERTIARYCOMPLETIONRATE",
         "rawType": "float64",
         "type": "float"
        }
       ],
       "ref": "4d952172-35fc-4fc7-ab47-726dd4ab9325",
       "rows": [
        [
         "0",
         "AFG",
         "1870",
         "0.0"
        ],
        [
         "1",
         "AFG",
         "1875",
         "0.0"
        ],
        [
         "2",
         "AFG",
         "1880",
         "0.0"
        ],
        [
         "3",
         "AFG",
         "1885",
         "0.0"
        ],
        [
         "4",
         "AFG",
         "1890",
         "0.0"
        ],
        [
         "5",
         "AFG",
         "1895",
         "0.0"
        ],
        [
         "6",
         "AFG",
         "1900",
         "0.0"
        ],
        [
         "7",
         "AFG",
         "1905",
         "0.0"
        ],
        [
         "8",
         "AFG",
         "1910",
         "0.0"
        ],
        [
         "9",
         "AFG",
         "1915",
         "0.1"
        ],
        [
         "10",
         "AFG",
         "1920",
         "0.1"
        ],
        [
         "11",
         "AFG",
         "1925",
         "0.1"
        ],
        [
         "12",
         "AFG",
         "1930",
         "0.1"
        ],
        [
         "13",
         "AFG",
         "1935",
         "0.1"
        ],
        [
         "14",
         "AFG",
         "1940",
         "0.2"
        ],
        [
         "15",
         "AFG",
         "1945",
         "0.3"
        ],
        [
         "16",
         "AFG",
         "1950",
         "0.3"
        ],
        [
         "17",
         "AFG",
         "1955",
         "0.5"
        ],
        [
         "18",
         "AFG",
         "1960",
         "0.6"
        ],
        [
         "19",
         "AFG",
         "1965",
         "0.9"
        ],
        [
         "20",
         "AFG",
         "1970",
         "1.2"
        ],
        [
         "21",
         "AFG",
         "1975",
         "2.5"
        ],
        [
         "22",
         "AFG",
         "1980",
         "3.6"
        ],
        [
         "23",
         "AFG",
         "1985",
         "4.8"
        ],
        [
         "24",
         "AFG",
         "1990",
         "6.0"
        ],
        [
         "25",
         "AFG",
         "1995",
         "7.0"
        ],
        [
         "26",
         "AFG",
         "2000",
         "7.9"
        ],
        [
         "27",
         "AFG",
         "2005",
         "8.5"
        ],
        [
         "28",
         "AFG",
         "2010",
         "8.8"
        ],
        [
         "29",
         "AFG",
         "2015",
         "8.8"
        ],
        [
         "30",
         "AFG",
         "2020",
         "8.0"
        ],
        [
         "31",
         "AFG",
         "2025",
         "7.3"
        ],
        [
         "32",
         "AFG",
         "2030",
         "5.8"
        ],
        [
         "33",
         "AFG",
         "2035",
         "4.8"
        ],
        [
         "34",
         "AFG",
         "2040",
         "4.1"
        ],
        [
         "35",
         "AFR",
         "1870",
         "0.0"
        ],
        [
         "36",
         "AFR",
         "1875",
         "0.0"
        ],
        [
         "37",
         "AFR",
         "1880",
         "0.0"
        ],
        [
         "38",
         "AFR",
         "1885",
         "0.0"
        ],
        [
         "39",
         "AFR",
         "1890",
         "0.0058999183"
        ],
        [
         "40",
         "AFR",
         "1895",
         "0.0060804305"
        ],
        [
         "41",
         "AFR",
         "1900",
         "0.006786721"
        ],
        [
         "42",
         "AFR",
         "1905",
         "0.007659175"
        ],
        [
         "43",
         "AFR",
         "1910",
         "0.026799247"
        ],
        [
         "44",
         "AFR",
         "1915",
         "0.03390612"
        ],
        [
         "45",
         "AFR",
         "1920",
         "0.09994243"
        ],
        [
         "46",
         "AFR",
         "1925",
         "0.17051019"
        ],
        [
         "47",
         "AFR",
         "1930",
         "0.25357977"
        ],
        [
         "48",
         "AFR",
         "1935",
         "0.3448825"
        ],
        [
         "49",
         "AFR",
         "1940",
         "0.45153433"
        ]
       ],
       "shape": {
        "columns": 3,
        "rows": 4311
       }
      },
      "text/html": [
       "<div>\n",
       "<style scoped>\n",
       "    .dataframe tbody tr th:only-of-type {\n",
       "        vertical-align: middle;\n",
       "    }\n",
       "\n",
       "    .dataframe tbody tr th {\n",
       "        vertical-align: top;\n",
       "    }\n",
       "\n",
       "    .dataframe thead th {\n",
       "        text-align: right;\n",
       "    }\n",
       "</style>\n",
       "<table border=\"1\" class=\"dataframe\">\n",
       "  <thead>\n",
       "    <tr style=\"text-align: right;\">\n",
       "      <th></th>\n",
       "      <th>COUNTRYCODE</th>\n",
       "      <th>YEAR</th>\n",
       "      <th>TERTIARYCOMPLETIONRATE</th>\n",
       "    </tr>\n",
       "  </thead>\n",
       "  <tbody>\n",
       "    <tr>\n",
       "      <th>0</th>\n",
       "      <td>AFG</td>\n",
       "      <td>1870</td>\n",
       "      <td>0.0</td>\n",
       "    </tr>\n",
       "    <tr>\n",
       "      <th>1</th>\n",
       "      <td>AFG</td>\n",
       "      <td>1875</td>\n",
       "      <td>0.0</td>\n",
       "    </tr>\n",
       "    <tr>\n",
       "      <th>2</th>\n",
       "      <td>AFG</td>\n",
       "      <td>1880</td>\n",
       "      <td>0.0</td>\n",
       "    </tr>\n",
       "    <tr>\n",
       "      <th>3</th>\n",
       "      <td>AFG</td>\n",
       "      <td>1885</td>\n",
       "      <td>0.0</td>\n",
       "    </tr>\n",
       "    <tr>\n",
       "      <th>4</th>\n",
       "      <td>AFG</td>\n",
       "      <td>1890</td>\n",
       "      <td>0.0</td>\n",
       "    </tr>\n",
       "    <tr>\n",
       "      <th>...</th>\n",
       "      <td>...</td>\n",
       "      <td>...</td>\n",
       "      <td>...</td>\n",
       "    </tr>\n",
       "    <tr>\n",
       "      <th>4306</th>\n",
       "      <td>ZWE</td>\n",
       "      <td>2020</td>\n",
       "      <td>0.7</td>\n",
       "    </tr>\n",
       "    <tr>\n",
       "      <th>4307</th>\n",
       "      <td>ZWE</td>\n",
       "      <td>2025</td>\n",
       "      <td>1.0</td>\n",
       "    </tr>\n",
       "    <tr>\n",
       "      <th>4308</th>\n",
       "      <td>ZWE</td>\n",
       "      <td>2030</td>\n",
       "      <td>1.9</td>\n",
       "    </tr>\n",
       "    <tr>\n",
       "      <th>4309</th>\n",
       "      <td>ZWE</td>\n",
       "      <td>2035</td>\n",
       "      <td>3.3</td>\n",
       "    </tr>\n",
       "    <tr>\n",
       "      <th>4310</th>\n",
       "      <td>ZWE</td>\n",
       "      <td>2040</td>\n",
       "      <td>5.5</td>\n",
       "    </tr>\n",
       "  </tbody>\n",
       "</table>\n",
       "<p>4311 rows × 3 columns</p>\n",
       "</div>"
      ],
      "text/plain": [
       "     COUNTRYCODE  YEAR  TERTIARYCOMPLETIONRATE\n",
       "0            AFG  1870                     0.0\n",
       "1            AFG  1875                     0.0\n",
       "2            AFG  1880                     0.0\n",
       "3            AFG  1885                     0.0\n",
       "4            AFG  1890                     0.0\n",
       "...          ...   ...                     ...\n",
       "4306         ZWE  2020                     0.7\n",
       "4307         ZWE  2025                     1.0\n",
       "4308         ZWE  2030                     1.9\n",
       "4309         ZWE  2035                     3.3\n",
       "4310         ZWE  2040                     5.5\n",
       "\n",
       "[4311 rows x 3 columns]"
      ]
     },
     "metadata": {},
     "output_type": "display_data"
    }
   ],
   "source": [
    "df = df_raw[[\"Code\", \"Year\", columnName]]\n",
    "df = df.rename(columns={\"Code\": \"COUNTRYCODE\"})\n",
    "df = df.rename(columns={\"Year\": \"YEAR\"})\n",
    "df = df.rename(columns={columnName: newColumnName})\n",
    "display(df)"
   ]
  },
  {
   "cell_type": "code",
   "execution_count": 49,
   "id": "0fb2a94d",
   "metadata": {},
   "outputs": [],
   "source": [
    "\n",
    "df.to_csv(f'data/out/{saveName}.csv', index=False)"
   ]
  }
 ],
 "metadata": {
  "kernelspec": {
   "display_name": "Python 3",
   "language": "python",
   "name": "python3"
  },
  "language_info": {
   "codemirror_mode": {
    "name": "ipython",
    "version": 3
   },
   "file_extension": ".py",
   "mimetype": "text/x-python",
   "name": "python",
   "nbconvert_exporter": "python",
   "pygments_lexer": "ipython3",
   "version": "3.13.5"
  }
 },
 "nbformat": 4,
 "nbformat_minor": 5
}
