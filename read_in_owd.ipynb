{
 "cells": [
  {
   "cell_type": "code",
   "execution_count": 74,
   "id": "6d89357a",
   "metadata": {},
   "outputs": [],
   "source": [
    "import numpy as numpy\n",
    "import pandas as pd"
   ]
  },
  {
   "cell_type": "code",
   "execution_count": 75,
   "id": "5263c40e",
   "metadata": {},
   "outputs": [],
   "source": [
    "# education data\n",
    "# from archimedes import get_dat_path\n",
    "# datasource = \"owd-tertiary-education\"  # Example datasource, can be changed\n",
    "# datasource = \"owd-government-expenditure-on-education-gdp\"\n",
    "\n",
    "# military expenditure data\n",
    "# datasource = \"owd-armed-forces-personnel\"  # Example datasource, can be changed\n",
    "# datasource = \"military-spending-as-a-share-of-gdp-sipri\"\n",
    "\n",
    "# economic data\n",
    "datasource = \"merchandise-exports-gdp-cepii\"\n",
    "\n",
    "match datasource:\n",
    "    case \"owd-tertiary-education\":\n",
    "        dataName = \"share-of-the-population-with-completed-tertiary-education\"\n",
    "        saveName = \"owd_education_tertiary_completion_rate\"\n",
    "        columnName = \"Combined - percentage of 25-64 years adults with incomplete tertiary education\"\n",
    "        newColumnName = \"TERTIARYCOMPLETIONRATE\"\n",
    "    case \"owd-government-expenditure-on-education-gdp\":\n",
    "        dataName = \"total-government-expenditure-on-education-gdp\"\n",
    "        saveName = \"owd_education_government_expenditure_gdp\"\n",
    "        columnName = \"Public spending on education as a share of GDP (historical and recent)\"\n",
    "        newColumnName = \"EDUCATIONGDPSHARE\"\n",
    "    case \"owd-armed-forces-personnel\":\n",
    "        dataName = \"victor/armed-forces-personnel-percent\"\n",
    "        saveName = \"owd-armed-forces-personnel\"\n",
    "        columnName = \"Armed forces personnel (% of total population)\"\n",
    "        newColumnName = \"MILITARYPERSONNELPERCENT\"\n",
    "    case \"merchandise-exports-gdp-cepii\":\n",
    "        dataName = \"victor/merchandise-exports-gdp-cepii\"\n",
    "        saveName = \"owd_exported_goods_as_share_of_gdp\"\n",
    "        columnName = \"Value of global merchandise exports as a share of GDP (Fouquin and Hugot; CEPII 2016; National data)\"\n",
    "        newColumnName = \"MERCHANDISEEXPORTSGDP\"\n",
    "    case \"military-spending-as-a-share-of-gdp-sipri\":\n",
    "        dataName = \"victor/military-spending-as-a-share-of-gdp-sipri\"\n",
    "        saveName = \"owd_military_spending_as_share_of_gdp\"\n",
    "        columnName = \"Military expenditure (% of GDP)\"\n",
    "        newColumnName = \"MILITARYSPENDINGGDP\"\n",
    "        \n",
    "        \n",
    "\n",
    "        \n",
    "        \n",
    "# Read in the share-of-the-population-with-completed-tertiary-education dataset\n",
    "df_raw = pd.read_csv(f'data/in/{dataName}.csv')\n",
    "\n"
   ]
  },
  {
   "cell_type": "code",
   "execution_count": 76,
   "id": "6e7335b5",
   "metadata": {},
   "outputs": [
    {
     "data": {
      "application/vnd.microsoft.datawrangler.viewer.v0+json": {
       "columns": [
        {
         "name": "index",
         "rawType": "int64",
         "type": "integer"
        },
        {
         "name": "Entity",
         "rawType": "object",
         "type": "string"
        },
        {
         "name": "Code",
         "rawType": "object",
         "type": "unknown"
        },
        {
         "name": "Year",
         "rawType": "int64",
         "type": "integer"
        },
        {
         "name": "Value of global merchandise exports as a share of GDP (Fouquin and Hugot; CEPII 2016; National data)",
         "rawType": "float64",
         "type": "float"
        }
       ],
       "ref": "fd590d69-365a-4105-b956-f80308f496ac",
       "rows": [
        [
         "0",
         "Afghanistan",
         "AFG",
         "1956",
         "21.65766"
        ],
        [
         "1",
         "Afghanistan",
         "AFG",
         "1957",
         "28.71579"
        ],
        [
         "2",
         "Afghanistan",
         "AFG",
         "1958",
         "16.64957"
        ],
        [
         "3",
         "Afghanistan",
         "AFG",
         "1959",
         "20.0166"
        ],
        [
         "4",
         "Afghanistan",
         "AFG",
         "1960",
         "12.42149"
        ],
        [
         "5",
         "Afghanistan",
         "AFG",
         "1961",
         "9.72874"
        ],
        [
         "6",
         "Afghanistan",
         "AFG",
         "1962",
         "10.77439"
        ],
        [
         "7",
         "Afghanistan",
         "AFG",
         "1963",
         "9.95858"
        ],
        [
         "8",
         "Afghanistan",
         "AFG",
         "1964",
         "8.8625"
        ],
        [
         "9",
         "Afghanistan",
         "AFG",
         "1965",
         "6.96358"
        ],
        [
         "10",
         "Afghanistan",
         "AFG",
         "1966",
         "5.96429"
        ],
        [
         "11",
         "Afghanistan",
         "AFG",
         "1967",
         "3.96855"
        ],
        [
         "12",
         "Afghanistan",
         "AFG",
         "1968",
         "6.26942"
        ],
        [
         "13",
         "Afghanistan",
         "AFG",
         "1969",
         "5.81196"
        ],
        [
         "14",
         "Afghanistan",
         "AFG",
         "1970",
         "4.83685"
        ],
        [
         "15",
         "Afghanistan",
         "AFG",
         "1971",
         "5.45571"
        ],
        [
         "16",
         "Afghanistan",
         "AFG",
         "1972",
         "7.80723"
        ],
        [
         "17",
         "Afghanistan",
         "AFG",
         "1973",
         "9.174"
        ],
        [
         "18",
         "Afghanistan",
         "AFG",
         "1974",
         "10.69562"
        ],
        [
         "19",
         "Afghanistan",
         "AFG",
         "1975",
         "9.50117"
        ],
        [
         "20",
         "Afghanistan",
         "AFG",
         "1976",
         "11.6737"
        ],
        [
         "21",
         "Afghanistan",
         "AFG",
         "1977",
         "10.62746"
        ],
        [
         "22",
         "Afghanistan",
         "AFG",
         "1978",
         "8.15624"
        ],
        [
         "23",
         "Afghanistan",
         "AFG",
         "1979",
         "11.76371"
        ],
        [
         "24",
         "Afghanistan",
         "AFG",
         "1980",
         "18.4109"
        ],
        [
         "25",
         "Afghanistan",
         "AFG",
         "1981",
         "20.46122"
        ],
        [
         "26",
         "Afghanistan",
         "AFG",
         "1982",
         "15.67759"
        ],
        [
         "27",
         "Afghanistan",
         "AFG",
         "1983",
         "18.26656"
        ],
        [
         "28",
         "Afghanistan",
         "AFG",
         "1984",
         "24.12348"
        ],
        [
         "29",
         "Afghanistan",
         "AFG",
         "1985",
         "22.65282"
        ],
        [
         "30",
         "Afghanistan",
         "AFG",
         "1986",
         "23.1738"
        ],
        [
         "31",
         "Afghanistan",
         "AFG",
         "1987",
         "28.44586"
        ],
        [
         "32",
         "Afghanistan",
         "AFG",
         "1988",
         "23.51688"
        ],
        [
         "33",
         "Afghanistan",
         "AFG",
         "1989",
         "9.07692"
        ],
        [
         "34",
         "Afghanistan",
         "AFG",
         "2001",
         "3.77874"
        ],
        [
         "35",
         "Afghanistan",
         "AFG",
         "2002",
         "2.34351"
        ],
        [
         "36",
         "Afghanistan",
         "AFG",
         "2003",
         "5.00757"
        ],
        [
         "37",
         "Afghanistan",
         "AFG",
         "2004",
         "5.77055"
        ],
        [
         "38",
         "Afghanistan",
         "AFG",
         "2005",
         "6.11945"
        ],
        [
         "39",
         "Afghanistan",
         "AFG",
         "2006",
         "5.89436"
        ],
        [
         "40",
         "Afghanistan",
         "AFG",
         "2007",
         "4.61202"
        ],
        [
         "41",
         "Afghanistan",
         "AFG",
         "2008",
         "5.11368"
        ],
        [
         "42",
         "Afghanistan",
         "AFG",
         "2009",
         "3.93394"
        ],
        [
         "43",
         "Afghanistan",
         "AFG",
         "2010",
         "3.47335"
        ],
        [
         "44",
         "Afghanistan",
         "AFG",
         "2011",
         "2.88153"
        ],
        [
         "45",
         "Afghanistan",
         "AFG",
         "2012",
         "2.68593"
        ],
        [
         "46",
         "Afghanistan",
         "AFG",
         "2013",
         "3.31999"
        ],
        [
         "47",
         "Afghanistan",
         "AFG",
         "2014",
         "3.66463"
        ],
        [
         "48",
         "Africa",
         null,
         "1960",
         "17.78766"
        ],
        [
         "49",
         "Africa",
         null,
         "1961",
         "17.61732"
        ]
       ],
       "shape": {
        "columns": 4,
        "rows": 13808
       }
      },
      "text/html": [
       "<div>\n",
       "<style scoped>\n",
       "    .dataframe tbody tr th:only-of-type {\n",
       "        vertical-align: middle;\n",
       "    }\n",
       "\n",
       "    .dataframe tbody tr th {\n",
       "        vertical-align: top;\n",
       "    }\n",
       "\n",
       "    .dataframe thead th {\n",
       "        text-align: right;\n",
       "    }\n",
       "</style>\n",
       "<table border=\"1\" class=\"dataframe\">\n",
       "  <thead>\n",
       "    <tr style=\"text-align: right;\">\n",
       "      <th></th>\n",
       "      <th>Entity</th>\n",
       "      <th>Code</th>\n",
       "      <th>Year</th>\n",
       "      <th>Value of global merchandise exports as a share of GDP (Fouquin and Hugot; CEPII 2016; National data)</th>\n",
       "    </tr>\n",
       "  </thead>\n",
       "  <tbody>\n",
       "    <tr>\n",
       "      <th>0</th>\n",
       "      <td>Afghanistan</td>\n",
       "      <td>AFG</td>\n",
       "      <td>1956</td>\n",
       "      <td>21.65766</td>\n",
       "    </tr>\n",
       "    <tr>\n",
       "      <th>1</th>\n",
       "      <td>Afghanistan</td>\n",
       "      <td>AFG</td>\n",
       "      <td>1957</td>\n",
       "      <td>28.71579</td>\n",
       "    </tr>\n",
       "    <tr>\n",
       "      <th>2</th>\n",
       "      <td>Afghanistan</td>\n",
       "      <td>AFG</td>\n",
       "      <td>1958</td>\n",
       "      <td>16.64957</td>\n",
       "    </tr>\n",
       "    <tr>\n",
       "      <th>3</th>\n",
       "      <td>Afghanistan</td>\n",
       "      <td>AFG</td>\n",
       "      <td>1959</td>\n",
       "      <td>20.01660</td>\n",
       "    </tr>\n",
       "    <tr>\n",
       "      <th>4</th>\n",
       "      <td>Afghanistan</td>\n",
       "      <td>AFG</td>\n",
       "      <td>1960</td>\n",
       "      <td>12.42149</td>\n",
       "    </tr>\n",
       "    <tr>\n",
       "      <th>...</th>\n",
       "      <td>...</td>\n",
       "      <td>...</td>\n",
       "      <td>...</td>\n",
       "      <td>...</td>\n",
       "    </tr>\n",
       "    <tr>\n",
       "      <th>13803</th>\n",
       "      <td>Zollverein</td>\n",
       "      <td>NaN</td>\n",
       "      <td>1866</td>\n",
       "      <td>10.77171</td>\n",
       "    </tr>\n",
       "    <tr>\n",
       "      <th>13804</th>\n",
       "      <td>Zollverein</td>\n",
       "      <td>NaN</td>\n",
       "      <td>1867</td>\n",
       "      <td>10.39549</td>\n",
       "    </tr>\n",
       "    <tr>\n",
       "      <th>13805</th>\n",
       "      <td>Zollverein</td>\n",
       "      <td>NaN</td>\n",
       "      <td>1868</td>\n",
       "      <td>14.46323</td>\n",
       "    </tr>\n",
       "    <tr>\n",
       "      <th>13806</th>\n",
       "      <td>Zollverein</td>\n",
       "      <td>NaN</td>\n",
       "      <td>1869</td>\n",
       "      <td>14.94143</td>\n",
       "    </tr>\n",
       "    <tr>\n",
       "      <th>13807</th>\n",
       "      <td>Zollverein</td>\n",
       "      <td>NaN</td>\n",
       "      <td>1870</td>\n",
       "      <td>11.51092</td>\n",
       "    </tr>\n",
       "  </tbody>\n",
       "</table>\n",
       "<p>13808 rows × 4 columns</p>\n",
       "</div>"
      ],
      "text/plain": [
       "            Entity Code  Year  \\\n",
       "0      Afghanistan  AFG  1956   \n",
       "1      Afghanistan  AFG  1957   \n",
       "2      Afghanistan  AFG  1958   \n",
       "3      Afghanistan  AFG  1959   \n",
       "4      Afghanistan  AFG  1960   \n",
       "...            ...  ...   ...   \n",
       "13803   Zollverein  NaN  1866   \n",
       "13804   Zollverein  NaN  1867   \n",
       "13805   Zollverein  NaN  1868   \n",
       "13806   Zollverein  NaN  1869   \n",
       "13807   Zollverein  NaN  1870   \n",
       "\n",
       "       Value of global merchandise exports as a share of GDP (Fouquin and Hugot; CEPII 2016; National data)  \n",
       "0                                               21.65766                                                     \n",
       "1                                               28.71579                                                     \n",
       "2                                               16.64957                                                     \n",
       "3                                               20.01660                                                     \n",
       "4                                               12.42149                                                     \n",
       "...                                                  ...                                                     \n",
       "13803                                           10.77171                                                     \n",
       "13804                                           10.39549                                                     \n",
       "13805                                           14.46323                                                     \n",
       "13806                                           14.94143                                                     \n",
       "13807                                           11.51092                                                     \n",
       "\n",
       "[13808 rows x 4 columns]"
      ]
     },
     "execution_count": 76,
     "metadata": {},
     "output_type": "execute_result"
    }
   ],
   "source": [
    "df_raw"
   ]
  },
  {
   "cell_type": "code",
   "execution_count": 77,
   "id": "d4cc8d71",
   "metadata": {},
   "outputs": [
    {
     "name": "stdout",
     "output_type": "stream",
     "text": [
      "48     AFR\n",
      "49     AFR\n",
      "50     AFR\n",
      "51     AFR\n",
      "52     AFR\n",
      "53     AFR\n",
      "54     AFR\n",
      "55     AFR\n",
      "56     AFR\n",
      "57     AFR\n",
      "58     AFR\n",
      "59     AFR\n",
      "60     AFR\n",
      "61     AFR\n",
      "62     AFR\n",
      "63     AFR\n",
      "64     AFR\n",
      "65     AFR\n",
      "66     AFR\n",
      "67     AFR\n",
      "68     AFR\n",
      "69     AFR\n",
      "70     AFR\n",
      "71     AFR\n",
      "72     AFR\n",
      "73     AFR\n",
      "74     AFR\n",
      "75     AFR\n",
      "76     AFR\n",
      "77     AFR\n",
      "78     AFR\n",
      "79     AFR\n",
      "80     AFR\n",
      "81     AFR\n",
      "82     AFR\n",
      "83     AFR\n",
      "84     AFR\n",
      "85     AFR\n",
      "86     AFR\n",
      "87     AFR\n",
      "88     AFR\n",
      "89     AFR\n",
      "90     AFR\n",
      "91     AFR\n",
      "92     AFR\n",
      "93     AFR\n",
      "94     AFR\n",
      "95     AFR\n",
      "96     AFR\n",
      "97     AFR\n",
      "98     AFR\n",
      "99     AFR\n",
      "100    AFR\n",
      "101    AFR\n",
      "102    AFR\n",
      "Name: Code, dtype: object\n",
      "536    ASI\n",
      "537    ASI\n",
      "538    ASI\n",
      "539    ASI\n",
      "540    ASI\n",
      "541    ASI\n",
      "542    ASI\n",
      "543    ASI\n",
      "544    ASI\n",
      "545    ASI\n",
      "546    ASI\n",
      "547    ASI\n",
      "548    ASI\n",
      "549    ASI\n",
      "550    ASI\n",
      "551    ASI\n",
      "552    ASI\n",
      "553    ASI\n",
      "554    ASI\n",
      "555    ASI\n",
      "556    ASI\n",
      "557    ASI\n",
      "558    ASI\n",
      "559    ASI\n",
      "560    ASI\n",
      "561    ASI\n",
      "562    ASI\n",
      "563    ASI\n",
      "564    ASI\n",
      "565    ASI\n",
      "566    ASI\n",
      "567    ASI\n",
      "568    ASI\n",
      "569    ASI\n",
      "570    ASI\n",
      "571    ASI\n",
      "572    ASI\n",
      "573    ASI\n",
      "574    ASI\n",
      "575    ASI\n",
      "576    ASI\n",
      "577    ASI\n",
      "578    ASI\n",
      "579    ASI\n",
      "580    ASI\n",
      "581    ASI\n",
      "582    ASI\n",
      "583    ASI\n",
      "584    ASI\n",
      "585    ASI\n",
      "586    ASI\n",
      "587    ASI\n",
      "588    ASI\n",
      "589    ASI\n",
      "590    ASI\n",
      "Name: Code, dtype: object\n",
      "Series([], Name: Code, dtype: object)\n",
      "Series([], Name: Code, dtype: object)\n",
      "9344    OCE\n",
      "9345    OCE\n",
      "9346    OCE\n",
      "9347    OCE\n",
      "9348    OCE\n",
      "9349    OCE\n",
      "9350    OCE\n",
      "9351    OCE\n",
      "9352    OCE\n",
      "9353    OCE\n",
      "9354    OCE\n",
      "9355    OCE\n",
      "9356    OCE\n",
      "9357    OCE\n",
      "9358    OCE\n",
      "9359    OCE\n",
      "9360    OCE\n",
      "9361    OCE\n",
      "9362    OCE\n",
      "9363    OCE\n",
      "9364    OCE\n",
      "9365    OCE\n",
      "9366    OCE\n",
      "9367    OCE\n",
      "9368    OCE\n",
      "9369    OCE\n",
      "9370    OCE\n",
      "9371    OCE\n",
      "9372    OCE\n",
      "9373    OCE\n",
      "9374    OCE\n",
      "9375    OCE\n",
      "9376    OCE\n",
      "9377    OCE\n",
      "9378    OCE\n",
      "9379    OCE\n",
      "9380    OCE\n",
      "9381    OCE\n",
      "9382    OCE\n",
      "9383    OCE\n",
      "9384    OCE\n",
      "9385    OCE\n",
      "9386    OCE\n",
      "9387    OCE\n",
      "9388    OCE\n",
      "9389    OCE\n",
      "9390    OCE\n",
      "9391    OCE\n",
      "9392    OCE\n",
      "9393    OCE\n",
      "9394    OCE\n",
      "9395    OCE\n",
      "9396    OCE\n",
      "9397    OCE\n",
      "9398    OCE\n",
      "Name: Code, dtype: object\n",
      "Series([], Name: Code, dtype: object)\n"
     ]
    },
    {
     "name": "stderr",
     "output_type": "stream",
     "text": [
      "C:\\Users\\11gmoretto\\AppData\\Local\\Temp\\ipykernel_25768\\242856277.py:10: FutureWarning: ChainedAssignmentError: behaviour will change in pandas 3.0!\n",
      "You are setting values through chained assignment. Currently this works in certain cases, but when using Copy-on-Write (which will become the default behaviour in pandas 3.0) this will never work to update the original DataFrame or Series, because the intermediate object on which we are setting values will behave as a copy.\n",
      "A typical example is when you are setting values in a column of a DataFrame, like:\n",
      "\n",
      "df[\"col\"][row_indexer] = value\n",
      "\n",
      "Use `df.loc[row_indexer, \"col\"] = values` instead, to perform the assignment in a single step and ensure this keeps updating the original `df`.\n",
      "\n",
      "See the caveats in the documentation: https://pandas.pydata.org/pandas-docs/stable/user_guide/indexing.html#returning-a-view-versus-a-copy\n",
      "\n",
      "  df_raw[\"Code\"].loc[df_raw[\"Entity\"]==region] = code[region]\n",
      "C:\\Users\\11gmoretto\\AppData\\Local\\Temp\\ipykernel_25768\\242856277.py:10: SettingWithCopyWarning: \n",
      "A value is trying to be set on a copy of a slice from a DataFrame\n",
      "\n",
      "See the caveats in the documentation: https://pandas.pydata.org/pandas-docs/stable/user_guide/indexing.html#returning-a-view-versus-a-copy\n",
      "  df_raw[\"Code\"].loc[df_raw[\"Entity\"]==region] = code[region]\n",
      "C:\\Users\\11gmoretto\\AppData\\Local\\Temp\\ipykernel_25768\\242856277.py:10: FutureWarning: ChainedAssignmentError: behaviour will change in pandas 3.0!\n",
      "You are setting values through chained assignment. Currently this works in certain cases, but when using Copy-on-Write (which will become the default behaviour in pandas 3.0) this will never work to update the original DataFrame or Series, because the intermediate object on which we are setting values will behave as a copy.\n",
      "A typical example is when you are setting values in a column of a DataFrame, like:\n",
      "\n",
      "df[\"col\"][row_indexer] = value\n",
      "\n",
      "Use `df.loc[row_indexer, \"col\"] = values` instead, to perform the assignment in a single step and ensure this keeps updating the original `df`.\n",
      "\n",
      "See the caveats in the documentation: https://pandas.pydata.org/pandas-docs/stable/user_guide/indexing.html#returning-a-view-versus-a-copy\n",
      "\n",
      "  df_raw[\"Code\"].loc[df_raw[\"Entity\"]==region] = code[region]\n",
      "C:\\Users\\11gmoretto\\AppData\\Local\\Temp\\ipykernel_25768\\242856277.py:10: SettingWithCopyWarning: \n",
      "A value is trying to be set on a copy of a slice from a DataFrame\n",
      "\n",
      "See the caveats in the documentation: https://pandas.pydata.org/pandas-docs/stable/user_guide/indexing.html#returning-a-view-versus-a-copy\n",
      "  df_raw[\"Code\"].loc[df_raw[\"Entity\"]==region] = code[region]\n",
      "C:\\Users\\11gmoretto\\AppData\\Local\\Temp\\ipykernel_25768\\242856277.py:10: FutureWarning: ChainedAssignmentError: behaviour will change in pandas 3.0!\n",
      "You are setting values through chained assignment. Currently this works in certain cases, but when using Copy-on-Write (which will become the default behaviour in pandas 3.0) this will never work to update the original DataFrame or Series, because the intermediate object on which we are setting values will behave as a copy.\n",
      "A typical example is when you are setting values in a column of a DataFrame, like:\n",
      "\n",
      "df[\"col\"][row_indexer] = value\n",
      "\n",
      "Use `df.loc[row_indexer, \"col\"] = values` instead, to perform the assignment in a single step and ensure this keeps updating the original `df`.\n",
      "\n",
      "See the caveats in the documentation: https://pandas.pydata.org/pandas-docs/stable/user_guide/indexing.html#returning-a-view-versus-a-copy\n",
      "\n",
      "  df_raw[\"Code\"].loc[df_raw[\"Entity\"]==region] = code[region]\n",
      "C:\\Users\\11gmoretto\\AppData\\Local\\Temp\\ipykernel_25768\\242856277.py:10: SettingWithCopyWarning: \n",
      "A value is trying to be set on a copy of a slice from a DataFrame\n",
      "\n",
      "See the caveats in the documentation: https://pandas.pydata.org/pandas-docs/stable/user_guide/indexing.html#returning-a-view-versus-a-copy\n",
      "  df_raw[\"Code\"].loc[df_raw[\"Entity\"]==region] = code[region]\n",
      "C:\\Users\\11gmoretto\\AppData\\Local\\Temp\\ipykernel_25768\\242856277.py:10: FutureWarning: ChainedAssignmentError: behaviour will change in pandas 3.0!\n",
      "You are setting values through chained assignment. Currently this works in certain cases, but when using Copy-on-Write (which will become the default behaviour in pandas 3.0) this will never work to update the original DataFrame or Series, because the intermediate object on which we are setting values will behave as a copy.\n",
      "A typical example is when you are setting values in a column of a DataFrame, like:\n",
      "\n",
      "df[\"col\"][row_indexer] = value\n",
      "\n",
      "Use `df.loc[row_indexer, \"col\"] = values` instead, to perform the assignment in a single step and ensure this keeps updating the original `df`.\n",
      "\n",
      "See the caveats in the documentation: https://pandas.pydata.org/pandas-docs/stable/user_guide/indexing.html#returning-a-view-versus-a-copy\n",
      "\n",
      "  df_raw[\"Code\"].loc[df_raw[\"Entity\"]==region] = code[region]\n",
      "C:\\Users\\11gmoretto\\AppData\\Local\\Temp\\ipykernel_25768\\242856277.py:10: SettingWithCopyWarning: \n",
      "A value is trying to be set on a copy of a slice from a DataFrame\n",
      "\n",
      "See the caveats in the documentation: https://pandas.pydata.org/pandas-docs/stable/user_guide/indexing.html#returning-a-view-versus-a-copy\n",
      "  df_raw[\"Code\"].loc[df_raw[\"Entity\"]==region] = code[region]\n",
      "C:\\Users\\11gmoretto\\AppData\\Local\\Temp\\ipykernel_25768\\242856277.py:10: FutureWarning: ChainedAssignmentError: behaviour will change in pandas 3.0!\n",
      "You are setting values through chained assignment. Currently this works in certain cases, but when using Copy-on-Write (which will become the default behaviour in pandas 3.0) this will never work to update the original DataFrame or Series, because the intermediate object on which we are setting values will behave as a copy.\n",
      "A typical example is when you are setting values in a column of a DataFrame, like:\n",
      "\n",
      "df[\"col\"][row_indexer] = value\n",
      "\n",
      "Use `df.loc[row_indexer, \"col\"] = values` instead, to perform the assignment in a single step and ensure this keeps updating the original `df`.\n",
      "\n",
      "See the caveats in the documentation: https://pandas.pydata.org/pandas-docs/stable/user_guide/indexing.html#returning-a-view-versus-a-copy\n",
      "\n",
      "  df_raw[\"Code\"].loc[df_raw[\"Entity\"]==region] = code[region]\n",
      "C:\\Users\\11gmoretto\\AppData\\Local\\Temp\\ipykernel_25768\\242856277.py:10: SettingWithCopyWarning: \n",
      "A value is trying to be set on a copy of a slice from a DataFrame\n",
      "\n",
      "See the caveats in the documentation: https://pandas.pydata.org/pandas-docs/stable/user_guide/indexing.html#returning-a-view-versus-a-copy\n",
      "  df_raw[\"Code\"].loc[df_raw[\"Entity\"]==region] = code[region]\n",
      "C:\\Users\\11gmoretto\\AppData\\Local\\Temp\\ipykernel_25768\\242856277.py:10: FutureWarning: ChainedAssignmentError: behaviour will change in pandas 3.0!\n",
      "You are setting values through chained assignment. Currently this works in certain cases, but when using Copy-on-Write (which will become the default behaviour in pandas 3.0) this will never work to update the original DataFrame or Series, because the intermediate object on which we are setting values will behave as a copy.\n",
      "A typical example is when you are setting values in a column of a DataFrame, like:\n",
      "\n",
      "df[\"col\"][row_indexer] = value\n",
      "\n",
      "Use `df.loc[row_indexer, \"col\"] = values` instead, to perform the assignment in a single step and ensure this keeps updating the original `df`.\n",
      "\n",
      "See the caveats in the documentation: https://pandas.pydata.org/pandas-docs/stable/user_guide/indexing.html#returning-a-view-versus-a-copy\n",
      "\n",
      "  df_raw[\"Code\"].loc[df_raw[\"Entity\"]==region] = code[region]\n",
      "C:\\Users\\11gmoretto\\AppData\\Local\\Temp\\ipykernel_25768\\242856277.py:10: SettingWithCopyWarning: \n",
      "A value is trying to be set on a copy of a slice from a DataFrame\n",
      "\n",
      "See the caveats in the documentation: https://pandas.pydata.org/pandas-docs/stable/user_guide/indexing.html#returning-a-view-versus-a-copy\n",
      "  df_raw[\"Code\"].loc[df_raw[\"Entity\"]==region] = code[region]\n"
     ]
    }
   ],
   "source": [
    "regions = ['Africa','Asia', 'Europe', 'North America', 'Oceania', 'South America']\n",
    "code = {\"Africa\": \"AFR\",\n",
    "        \"Asia\": \"ASI\",\n",
    "        \"Europe\": \"EUR\",\n",
    "        \"North America\": \"AMN\",\n",
    "        \"Oceania\": \"OCE\",\n",
    "        \"South America\": \"AMS\"}\n",
    "\n",
    "for region in regions:\n",
    "    df_raw[\"Code\"].loc[df_raw[\"Entity\"]==region] = code[region]\n",
    "    print(df_raw[\"Code\"].loc[df_raw[\"Entity\"]==region])\n",
    "    \n",
    "\n"
   ]
  },
  {
   "cell_type": "code",
   "execution_count": 78,
   "id": "e41aeab1",
   "metadata": {},
   "outputs": [
    {
     "data": {
      "application/vnd.microsoft.datawrangler.viewer.v0+json": {
       "columns": [
        {
         "name": "index",
         "rawType": "int64",
         "type": "integer"
        },
        {
         "name": "COUNTRYCODE",
         "rawType": "object",
         "type": "unknown"
        },
        {
         "name": "YEAR",
         "rawType": "int64",
         "type": "integer"
        },
        {
         "name": "MERCHANDISEEXPORTSGDP",
         "rawType": "float64",
         "type": "float"
        }
       ],
       "ref": "8a88d4d3-29d2-4392-9adf-d405f338d4c1",
       "rows": [
        [
         "0",
         "AFG",
         "1956",
         "21.65766"
        ],
        [
         "1",
         "AFG",
         "1957",
         "28.71579"
        ],
        [
         "2",
         "AFG",
         "1958",
         "16.64957"
        ],
        [
         "3",
         "AFG",
         "1959",
         "20.0166"
        ],
        [
         "4",
         "AFG",
         "1960",
         "12.42149"
        ],
        [
         "5",
         "AFG",
         "1961",
         "9.72874"
        ],
        [
         "6",
         "AFG",
         "1962",
         "10.77439"
        ],
        [
         "7",
         "AFG",
         "1963",
         "9.95858"
        ],
        [
         "8",
         "AFG",
         "1964",
         "8.8625"
        ],
        [
         "9",
         "AFG",
         "1965",
         "6.96358"
        ],
        [
         "10",
         "AFG",
         "1966",
         "5.96429"
        ],
        [
         "11",
         "AFG",
         "1967",
         "3.96855"
        ],
        [
         "12",
         "AFG",
         "1968",
         "6.26942"
        ],
        [
         "13",
         "AFG",
         "1969",
         "5.81196"
        ],
        [
         "14",
         "AFG",
         "1970",
         "4.83685"
        ],
        [
         "15",
         "AFG",
         "1971",
         "5.45571"
        ],
        [
         "16",
         "AFG",
         "1972",
         "7.80723"
        ],
        [
         "17",
         "AFG",
         "1973",
         "9.174"
        ],
        [
         "18",
         "AFG",
         "1974",
         "10.69562"
        ],
        [
         "19",
         "AFG",
         "1975",
         "9.50117"
        ],
        [
         "20",
         "AFG",
         "1976",
         "11.6737"
        ],
        [
         "21",
         "AFG",
         "1977",
         "10.62746"
        ],
        [
         "22",
         "AFG",
         "1978",
         "8.15624"
        ],
        [
         "23",
         "AFG",
         "1979",
         "11.76371"
        ],
        [
         "24",
         "AFG",
         "1980",
         "18.4109"
        ],
        [
         "25",
         "AFG",
         "1981",
         "20.46122"
        ],
        [
         "26",
         "AFG",
         "1982",
         "15.67759"
        ],
        [
         "27",
         "AFG",
         "1983",
         "18.26656"
        ],
        [
         "28",
         "AFG",
         "1984",
         "24.12348"
        ],
        [
         "29",
         "AFG",
         "1985",
         "22.65282"
        ],
        [
         "30",
         "AFG",
         "1986",
         "23.1738"
        ],
        [
         "31",
         "AFG",
         "1987",
         "28.44586"
        ],
        [
         "32",
         "AFG",
         "1988",
         "23.51688"
        ],
        [
         "33",
         "AFG",
         "1989",
         "9.07692"
        ],
        [
         "34",
         "AFG",
         "2001",
         "3.77874"
        ],
        [
         "35",
         "AFG",
         "2002",
         "2.34351"
        ],
        [
         "36",
         "AFG",
         "2003",
         "5.00757"
        ],
        [
         "37",
         "AFG",
         "2004",
         "5.77055"
        ],
        [
         "38",
         "AFG",
         "2005",
         "6.11945"
        ],
        [
         "39",
         "AFG",
         "2006",
         "5.89436"
        ],
        [
         "40",
         "AFG",
         "2007",
         "4.61202"
        ],
        [
         "41",
         "AFG",
         "2008",
         "5.11368"
        ],
        [
         "42",
         "AFG",
         "2009",
         "3.93394"
        ],
        [
         "43",
         "AFG",
         "2010",
         "3.47335"
        ],
        [
         "44",
         "AFG",
         "2011",
         "2.88153"
        ],
        [
         "45",
         "AFG",
         "2012",
         "2.68593"
        ],
        [
         "46",
         "AFG",
         "2013",
         "3.31999"
        ],
        [
         "47",
         "AFG",
         "2014",
         "3.66463"
        ],
        [
         "48",
         "AFR",
         "1960",
         "17.78766"
        ],
        [
         "49",
         "AFR",
         "1961",
         "17.61732"
        ]
       ],
       "shape": {
        "columns": 3,
        "rows": 13808
       }
      },
      "text/html": [
       "<div>\n",
       "<style scoped>\n",
       "    .dataframe tbody tr th:only-of-type {\n",
       "        vertical-align: middle;\n",
       "    }\n",
       "\n",
       "    .dataframe tbody tr th {\n",
       "        vertical-align: top;\n",
       "    }\n",
       "\n",
       "    .dataframe thead th {\n",
       "        text-align: right;\n",
       "    }\n",
       "</style>\n",
       "<table border=\"1\" class=\"dataframe\">\n",
       "  <thead>\n",
       "    <tr style=\"text-align: right;\">\n",
       "      <th></th>\n",
       "      <th>COUNTRYCODE</th>\n",
       "      <th>YEAR</th>\n",
       "      <th>MERCHANDISEEXPORTSGDP</th>\n",
       "    </tr>\n",
       "  </thead>\n",
       "  <tbody>\n",
       "    <tr>\n",
       "      <th>0</th>\n",
       "      <td>AFG</td>\n",
       "      <td>1956</td>\n",
       "      <td>21.65766</td>\n",
       "    </tr>\n",
       "    <tr>\n",
       "      <th>1</th>\n",
       "      <td>AFG</td>\n",
       "      <td>1957</td>\n",
       "      <td>28.71579</td>\n",
       "    </tr>\n",
       "    <tr>\n",
       "      <th>2</th>\n",
       "      <td>AFG</td>\n",
       "      <td>1958</td>\n",
       "      <td>16.64957</td>\n",
       "    </tr>\n",
       "    <tr>\n",
       "      <th>3</th>\n",
       "      <td>AFG</td>\n",
       "      <td>1959</td>\n",
       "      <td>20.01660</td>\n",
       "    </tr>\n",
       "    <tr>\n",
       "      <th>4</th>\n",
       "      <td>AFG</td>\n",
       "      <td>1960</td>\n",
       "      <td>12.42149</td>\n",
       "    </tr>\n",
       "    <tr>\n",
       "      <th>...</th>\n",
       "      <td>...</td>\n",
       "      <td>...</td>\n",
       "      <td>...</td>\n",
       "    </tr>\n",
       "    <tr>\n",
       "      <th>13803</th>\n",
       "      <td>NaN</td>\n",
       "      <td>1866</td>\n",
       "      <td>10.77171</td>\n",
       "    </tr>\n",
       "    <tr>\n",
       "      <th>13804</th>\n",
       "      <td>NaN</td>\n",
       "      <td>1867</td>\n",
       "      <td>10.39549</td>\n",
       "    </tr>\n",
       "    <tr>\n",
       "      <th>13805</th>\n",
       "      <td>NaN</td>\n",
       "      <td>1868</td>\n",
       "      <td>14.46323</td>\n",
       "    </tr>\n",
       "    <tr>\n",
       "      <th>13806</th>\n",
       "      <td>NaN</td>\n",
       "      <td>1869</td>\n",
       "      <td>14.94143</td>\n",
       "    </tr>\n",
       "    <tr>\n",
       "      <th>13807</th>\n",
       "      <td>NaN</td>\n",
       "      <td>1870</td>\n",
       "      <td>11.51092</td>\n",
       "    </tr>\n",
       "  </tbody>\n",
       "</table>\n",
       "<p>13808 rows × 3 columns</p>\n",
       "</div>"
      ],
      "text/plain": [
       "      COUNTRYCODE  YEAR  MERCHANDISEEXPORTSGDP\n",
       "0             AFG  1956               21.65766\n",
       "1             AFG  1957               28.71579\n",
       "2             AFG  1958               16.64957\n",
       "3             AFG  1959               20.01660\n",
       "4             AFG  1960               12.42149\n",
       "...           ...   ...                    ...\n",
       "13803         NaN  1866               10.77171\n",
       "13804         NaN  1867               10.39549\n",
       "13805         NaN  1868               14.46323\n",
       "13806         NaN  1869               14.94143\n",
       "13807         NaN  1870               11.51092\n",
       "\n",
       "[13808 rows x 3 columns]"
      ]
     },
     "metadata": {},
     "output_type": "display_data"
    }
   ],
   "source": [
    "df = df_raw[[\"Code\", \"Year\", columnName]]\n",
    "df = df.rename(columns={\"Code\": \"COUNTRYCODE\"})\n",
    "df = df.rename(columns={\"Year\": \"YEAR\"})\n",
    "df = df.rename(columns={columnName: newColumnName})\n",
    "display(df)"
   ]
  },
  {
   "cell_type": "code",
   "execution_count": 79,
   "id": "0fb2a94d",
   "metadata": {},
   "outputs": [],
   "source": [
    "\n",
    "df.to_csv(f'data/out/{saveName}.csv', index=False)"
   ]
  }
 ],
 "metadata": {
  "kernelspec": {
   "display_name": "Python 3",
   "language": "python",
   "name": "python3"
  },
  "language_info": {
   "codemirror_mode": {
    "name": "ipython",
    "version": 3
   },
   "file_extension": ".py",
   "mimetype": "text/x-python",
   "name": "python",
   "nbconvert_exporter": "python",
   "pygments_lexer": "ipython3",
   "version": "3.13.5"
  }
 },
 "nbformat": 4,
 "nbformat_minor": 5
}
